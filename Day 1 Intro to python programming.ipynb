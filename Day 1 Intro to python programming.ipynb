{
 "cells": [
  {
   "cell_type": "markdown",
   "id": "0e7fe5db",
   "metadata": {},
   "source": [
    "# Python is:\n",
    "* An interpreted, \n",
    "* Object-oriented, \n",
    "* high-level programming language with \n",
    "* dynamic semantics / variables are dynamic objects\n",
    "\n",
    "\n",
    "# Introduction to Google Colab\n",
    "\n",
    "\n",
    "<img src = \"https://drive.google.com/uc?id=1gWczOrIethpV7ZLzdwTIxDpx1QI0rdo8\">"
   ]
  },
  {
   "cell_type": "markdown",
   "id": "f9817752",
   "metadata": {},
   "source": [
    "# Verify installation of python and pip\n",
    "\n",
    "In local Machine on notebooks\n",
    "\n",
    "```\n",
    "!python –-version\n",
    "!pip –-version\n",
    "```"
   ]
  },
  {
   "cell_type": "markdown",
   "id": "12d0bb90",
   "metadata": {},
   "source": [
    "# What is pip?\n",
    "\n",
    "pip is the standard package manager for Python. \n",
    "We can use pip to install additional packages that are not available in the Python standard library. For example, Numpy is not available in python preinstalled\n",
    "\n",
    "```python\n",
    "pip install numpy\n",
    "```\n",
    "\n",
    "This command would have installed the `numpy` library. \n"
   ]
  },
  {
   "cell_type": "markdown",
   "id": "0d7d7b86",
   "metadata": {},
   "source": [
    "# What is a python program?\n",
    "\n",
    "A program is a set of instructions that a computer uses to perform a specific function.\n",
    "\n",
    "```python\n",
    "print(\"Hello, World!\")\n",
    "```\n",
    "Instructions that a Python interpreter can execute are called statements. For example, print(\"Hello, World!\") is print  statement. \n",
    "\n"
   ]
  },
  {
   "cell_type": "code",
   "execution_count": 1,
   "id": "8d047f5d",
   "metadata": {},
   "outputs": [
    {
     "name": "stdout",
     "output_type": "stream",
     "text": [
      "Hello, world!\n"
     ]
    }
   ],
   "source": [
    "print('Hello, world!')"
   ]
  },
  {
   "cell_type": "code",
   "execution_count": 2,
   "id": "55e6fb87",
   "metadata": {},
   "outputs": [
    {
     "name": "stdout",
     "output_type": "stream",
     "text": [
      "Welcome to Python for Research\n"
     ]
    }
   ],
   "source": [
    "print(\"Welcome to Python for Research\")"
   ]
  },
  {
   "cell_type": "markdown",
   "id": "8360c75b",
   "metadata": {},
   "source": [
    "Class work: WAP to print your name "
   ]
  },
  {
   "cell_type": "code",
   "execution_count": 3,
   "id": "8042043a",
   "metadata": {},
   "outputs": [
    {
     "name": "stdout",
     "output_type": "stream",
     "text": [
      "Hello, My name is Kshitiz Regmi\n"
     ]
    }
   ],
   "source": [
    "print(\"Hello, My name is Kshitiz Regmi\")"
   ]
  },
  {
   "cell_type": "markdown",
   "id": "3fc76236",
   "metadata": {},
   "source": [
    "# Using Python as calculators —Python Arithmetic Operators\n",
    "\n",
    "Arithmetic operators are used with numeric values to perform common mathematical operations:\n",
    "\n",
    "* Addition (+)\n",
    "\n",
    "* Subtraction (-) \n",
    "\n",
    "* Multiplication (*)\n",
    "\n",
    "* Division (/) \n",
    "\n",
    "* Modulus (%)\n",
    "\n",
    "* Exponentiation (**)\n",
    "\n",
    "* Floor division (//)\n",
    "\n",
    "\n",
    "<figure>\n",
    "    <img src='https://www.devopsschool.com/blog/wp-content/uploads/2020/08/arithmetic-operation-in-python.png' alt='missing' />\n",
    "    <figcaption>Arithmatic operation using artihmaitc oparator src:devopsschool.com</figcaption>\n",
    "</figure>\n"
   ]
  },
  {
   "cell_type": "code",
   "execution_count": 4,
   "id": "90a7e165",
   "metadata": {},
   "outputs": [
    {
     "data": {
      "text/plain": [
       "6"
      ]
     },
     "execution_count": 4,
     "metadata": {},
     "output_type": "execute_result"
    }
   ],
   "source": [
    "4+2"
   ]
  },
  {
   "cell_type": "code",
   "execution_count": 5,
   "id": "a236653e",
   "metadata": {},
   "outputs": [
    {
     "data": {
      "text/plain": [
       "2"
      ]
     },
     "execution_count": 5,
     "metadata": {},
     "output_type": "execute_result"
    }
   ],
   "source": [
    "4-2"
   ]
  },
  {
   "cell_type": "code",
   "execution_count": 6,
   "id": "81e3dbcc",
   "metadata": {},
   "outputs": [
    {
     "data": {
      "text/plain": [
       "7.5"
      ]
     },
     "execution_count": 6,
     "metadata": {},
     "output_type": "execute_result"
    }
   ],
   "source": [
    "# divide two number\n",
    "15/2"
   ]
  },
  {
   "cell_type": "code",
   "execution_count": 7,
   "id": "94f27b87",
   "metadata": {},
   "outputs": [
    {
     "data": {
      "text/plain": [
       "7"
      ]
     },
     "execution_count": 7,
     "metadata": {},
     "output_type": "execute_result"
    }
   ],
   "source": [
    "15//2 # floor division "
   ]
  },
  {
   "cell_type": "code",
   "execution_count": 8,
   "id": "62956f42",
   "metadata": {},
   "outputs": [
    {
     "data": {
      "text/plain": [
       "16"
      ]
     },
     "execution_count": 8,
     "metadata": {},
     "output_type": "execute_result"
    }
   ],
   "source": [
    "4**2"
   ]
  },
  {
   "cell_type": "code",
   "execution_count": 9,
   "id": "e6d88452",
   "metadata": {},
   "outputs": [
    {
     "data": {
      "text/plain": [
       "2"
      ]
     },
     "execution_count": 9,
     "metadata": {},
     "output_type": "execute_result"
    }
   ],
   "source": [
    "5//2"
   ]
  },
  {
   "cell_type": "code",
   "execution_count": 10,
   "id": "63c49e1f",
   "metadata": {},
   "outputs": [
    {
     "data": {
      "text/plain": [
       "-3"
      ]
     },
     "execution_count": 10,
     "metadata": {},
     "output_type": "execute_result"
    }
   ],
   "source": [
    "-5//2"
   ]
  },
  {
   "cell_type": "code",
   "execution_count": 11,
   "id": "8482b3d3",
   "metadata": {},
   "outputs": [
    {
     "name": "stdout",
     "output_type": "stream",
     "text": [
      "55\n"
     ]
    }
   ],
   "source": [
    "# adds two number \n",
    "a = 50\n",
    "b = 5\n",
    "c = a + b\n",
    "print(c)"
   ]
  },
  {
   "cell_type": "code",
   "execution_count": 12,
   "id": "3dba0a26",
   "metadata": {},
   "outputs": [
    {
     "name": "stdout",
     "output_type": "stream",
     "text": [
      "-5\n"
     ]
    }
   ],
   "source": [
    "# subtracts two number \n",
    "x = 6\n",
    "y = 11\n",
    "z = x - y\n",
    "print(z)"
   ]
  },
  {
   "cell_type": "markdown",
   "id": "487c71ed",
   "metadata": {},
   "source": [
    "# IEEE 754 standard for floating point arithmetic\n",
    "\n",
    "* https://en.wikipedia.org/wiki/IEEE_754\n",
    "* https://docs.python.org/3/tutorial/floatingpoint.html"
   ]
  },
  {
   "cell_type": "code",
   "execution_count": 13,
   "id": "d92e5e3a",
   "metadata": {},
   "outputs": [
    {
     "data": {
      "text/plain": [
       "14.969999999999999"
      ]
     },
     "execution_count": 13,
     "metadata": {},
     "output_type": "execute_result"
    }
   ],
   "source": [
    "24.95 - 9.98"
   ]
  },
  {
   "cell_type": "code",
   "execution_count": 14,
   "id": "6004581c",
   "metadata": {},
   "outputs": [
    {
     "data": {
      "text/plain": [
       "14.97"
      ]
     },
     "execution_count": 14,
     "metadata": {},
     "output_type": "execute_result"
    }
   ],
   "source": [
    "round(24.95 - 9.98 , 2)"
   ]
  },
  {
   "cell_type": "markdown",
   "id": "5b0e976d",
   "metadata": {},
   "source": [
    "# Operator Precedence\n",
    "\n",
    "\n",
    "When more than one operator appears in an expression, the order of evaluation depends on the rules of precedence. For mathematical operators, Python follows mathematical convention. \n",
    "\n",
    "The acronym PEMDAS is a useful way to remember the rules:\n",
    "\n",
    "* Parentheses have the highest precedence and can be used to force an expression to evaluate in the order you want. Since expressions in parentheses are evaluated first, 2 * (3-1) is 4, and (1+1)**(5-2) is 8.\n",
    "\n",
    "* Exponentiation has the next highest precedence, so `2**1+1` is 3, not 4, and `3*1**3` is 3, not 27.\n",
    "\n",
    "* Multiplication and Division have the same precedence, which is higher than Addition and Subtraction, which also have the same precedence.  So `2*3-1` is `5`, not 4, and `6+4/2` is `8`, not 5.\n",
    "\n",
    "Operators with the same precedence are evaluated from left to right (except exponentiation).\n"
   ]
  },
  {
   "cell_type": "code",
   "execution_count": 15,
   "id": "261d67c3",
   "metadata": {},
   "outputs": [
    {
     "data": {
      "text/plain": [
       "4"
      ]
     },
     "execution_count": 15,
     "metadata": {},
     "output_type": "execute_result"
    }
   ],
   "source": [
    " 2 * (3-1)"
   ]
  },
  {
   "cell_type": "code",
   "execution_count": 16,
   "id": "c2c4d8ea",
   "metadata": {},
   "outputs": [
    {
     "data": {
      "text/plain": [
       "8"
      ]
     },
     "execution_count": 16,
     "metadata": {},
     "output_type": "execute_result"
    }
   ],
   "source": [
    "(1+1)**(5-2)"
   ]
  },
  {
   "cell_type": "code",
   "execution_count": 17,
   "id": "12138e02",
   "metadata": {},
   "outputs": [
    {
     "data": {
      "text/plain": [
       "3"
      ]
     },
     "execution_count": 17,
     "metadata": {},
     "output_type": "execute_result"
    }
   ],
   "source": [
    "2**1+1"
   ]
  },
  {
   "cell_type": "code",
   "execution_count": 18,
   "id": "13219750",
   "metadata": {},
   "outputs": [
    {
     "data": {
      "text/plain": [
       "3"
      ]
     },
     "execution_count": 18,
     "metadata": {},
     "output_type": "execute_result"
    }
   ],
   "source": [
    "3*1**3"
   ]
  },
  {
   "cell_type": "code",
   "execution_count": 19,
   "id": "b53e08ff",
   "metadata": {},
   "outputs": [
    {
     "data": {
      "text/plain": [
       "5"
      ]
     },
     "execution_count": 19,
     "metadata": {},
     "output_type": "execute_result"
    }
   ],
   "source": [
    "2*3-1"
   ]
  },
  {
   "cell_type": "code",
   "execution_count": 20,
   "id": "e2eb29c2",
   "metadata": {},
   "outputs": [
    {
     "data": {
      "text/plain": [
       "8.0"
      ]
     },
     "execution_count": 20,
     "metadata": {},
     "output_type": "execute_result"
    }
   ],
   "source": [
    "6+4/2"
   ]
  },
  {
   "cell_type": "code",
   "execution_count": 21,
   "id": "9368c454",
   "metadata": {},
   "outputs": [
    {
     "data": {
      "text/plain": [
       "512"
      ]
     },
     "execution_count": 21,
     "metadata": {},
     "output_type": "execute_result"
    }
   ],
   "source": [
    "2 ** 3 ** 2 # evaluated as 2**9"
   ]
  },
  {
   "cell_type": "code",
   "execution_count": 22,
   "id": "fd935b3a",
   "metadata": {},
   "outputs": [
    {
     "data": {
      "text/plain": [
       "512"
      ]
     },
     "execution_count": 22,
     "metadata": {},
     "output_type": "execute_result"
    }
   ],
   "source": [
    "2**9"
   ]
  },
  {
   "cell_type": "code",
   "execution_count": 23,
   "id": "a12836fe",
   "metadata": {},
   "outputs": [
    {
     "data": {
      "text/plain": [
       "64"
      ]
     },
     "execution_count": 23,
     "metadata": {},
     "output_type": "execute_result"
    }
   ],
   "source": [
    "(2 ** 3) ** 2 # evaluated as 8**2"
   ]
  },
  {
   "cell_type": "markdown",
   "id": "e5e8623b",
   "metadata": {},
   "source": [
    "# = doesn’t mean equals to it means assignment of value to an object\n",
    "\n",
    "A variable is a named location used to store data in the memory. It is helpful to think of variables as a container that holds data that can be changed later in the program.\n",
    "```oython\n",
    "dall_in_kg  =   60.5\n",
    "```\n",
    "\n",
    "dall_in_kg is a variable name. 60.5 is a quanity or data.\n",
    "\n",
    "\n",
    "# Are all variable name valid? -- no"
   ]
  },
  {
   "cell_type": "markdown",
   "id": "df98f1f1",
   "metadata": {},
   "source": [
    "**Python Keywords**\n",
    "\n",
    "Keywords are the reserved words in Python.\n",
    "\n",
    "We cannot use a keyword as a variable name, function name or any other identifier. They are used to define the syntax and structure of the Python language."
   ]
  },
  {
   "cell_type": "code",
   "execution_count": 24,
   "id": "e612ee92",
   "metadata": {},
   "outputs": [
    {
     "ename": "SyntaxError",
     "evalue": "invalid syntax (1216893355.py, line 1)",
     "output_type": "error",
     "traceback": [
      "\u001b[0;36m  Input \u001b[0;32mIn [24]\u001b[0;36m\u001b[0m\n\u001b[0;31m    global = 40\u001b[0m\n\u001b[0m           ^\u001b[0m\n\u001b[0;31mSyntaxError\u001b[0m\u001b[0;31m:\u001b[0m invalid syntax\n"
     ]
    }
   ],
   "source": [
    "global = 40"
   ]
  },
  {
   "cell_type": "code",
   "execution_count": 25,
   "id": "c80f65ff",
   "metadata": {},
   "outputs": [
    {
     "ename": "SyntaxError",
     "evalue": "cannot assign to False (3207430437.py, line 1)",
     "output_type": "error",
     "traceback": [
      "\u001b[0;36m  Input \u001b[0;32mIn [25]\u001b[0;36m\u001b[0m\n\u001b[0;31m    False = 33\u001b[0m\n\u001b[0m    ^\u001b[0m\n\u001b[0;31mSyntaxError\u001b[0m\u001b[0;31m:\u001b[0m cannot assign to False\n"
     ]
    }
   ],
   "source": [
    "False = 33"
   ]
  },
  {
   "cell_type": "markdown",
   "id": "6a0bc3cb",
   "metadata": {},
   "source": [
    "In Python, keywords are case sensitive."
   ]
  },
  {
   "cell_type": "code",
   "execution_count": 26,
   "id": "8a899a5b",
   "metadata": {},
   "outputs": [
    {
     "ename": "SyntaxError",
     "evalue": "invalid syntax (1216893355.py, line 1)",
     "output_type": "error",
     "traceback": [
      "\u001b[0;36m  Input \u001b[0;32mIn [26]\u001b[0;36m\u001b[0m\n\u001b[0;31m    global = 40\u001b[0m\n\u001b[0m           ^\u001b[0m\n\u001b[0;31mSyntaxError\u001b[0m\u001b[0;31m:\u001b[0m invalid syntax\n"
     ]
    }
   ],
   "source": [
    "global = 40"
   ]
  },
  {
   "cell_type": "code",
   "execution_count": 27,
   "id": "9a079ae5",
   "metadata": {},
   "outputs": [],
   "source": [
    "Global = 40 # valid because python is case sensative global is a keyword however Global is not a keyword"
   ]
  },
  {
   "cell_type": "markdown",
   "id": "ea7bf0e5",
   "metadata": {},
   "source": [
    "**We cannot use special symbols like !, @, #, $, % etc. in our identifier.**"
   ]
  },
  {
   "cell_type": "code",
   "execution_count": 28,
   "id": "61000941",
   "metadata": {},
   "outputs": [
    {
     "ename": "SyntaxError",
     "evalue": "invalid syntax (3237788464.py, line 1)",
     "output_type": "error",
     "traceback": [
      "\u001b[0;36m  Input \u001b[0;32mIn [28]\u001b[0;36m\u001b[0m\n\u001b[0;31m    $obj = 5\u001b[0m\n\u001b[0m    ^\u001b[0m\n\u001b[0;31mSyntaxError\u001b[0m\u001b[0;31m:\u001b[0m invalid syntax\n"
     ]
    }
   ],
   "source": [
    "$obj = 5"
   ]
  },
  {
   "cell_type": "code",
   "execution_count": 29,
   "id": "6253c78e",
   "metadata": {},
   "outputs": [
    {
     "ename": "SyntaxError",
     "evalue": "invalid syntax (365329252.py, line 1)",
     "output_type": "error",
     "traceback": [
      "\u001b[0;36m  Input \u001b[0;32mIn [29]\u001b[0;36m\u001b[0m\n\u001b[0;31m    @name=66\u001b[0m\n\u001b[0m         ^\u001b[0m\n\u001b[0;31mSyntaxError\u001b[0m\u001b[0;31m:\u001b[0m invalid syntax\n"
     ]
    }
   ],
   "source": [
    "@name=66"
   ]
  },
  {
   "cell_type": "markdown",
   "id": "9374f74b",
   "metadata": {},
   "source": [
    "Identifiers can be a combination of letters in lowercase (a to z) or uppercase (A to Z) or digits (0 to 9) (at last) or an underscore _. Names like myClass, var_1 and print_this_to_screen, all are valid example. It can be of any length.\n",
    "\n",
    "Note: Python is case-senative language\n"
   ]
  },
  {
   "cell_type": "code",
   "execution_count": 30,
   "id": "f03002be",
   "metadata": {},
   "outputs": [
    {
     "name": "stdout",
     "output_type": "stream",
     "text": [
      "variable is = 4568\n",
      "Variable is = 22\n"
     ]
    }
   ],
   "source": [
    "variable = 4568\n",
    "Variable = 22\n",
    "print(\"variable is = {}\".format(variable))\n",
    "print(\"Variable is = {}\".format(Variable))"
   ]
  },
  {
   "cell_type": "markdown",
   "id": "c497fee6",
   "metadata": {},
   "source": [
    "# How can we update or change variable value in a program?"
   ]
  },
  {
   "cell_type": "code",
   "execution_count": 31,
   "id": "400f969c",
   "metadata": {},
   "outputs": [
    {
     "name": "stdout",
     "output_type": "stream",
     "text": [
      "first_number before replacement = 60.5\n",
      "first_number after replacement = 3\n"
     ]
    }
   ],
   "source": [
    "first_number =  60.5\n",
    "print(\"first_number before replacement = {}\".format(first_number))\n",
    "first_number = 3\n",
    "print(\"first_number after replacement = {}\".format(first_number))"
   ]
  },
  {
   "cell_type": "code",
   "execution_count": 32,
   "id": "246baad6",
   "metadata": {},
   "outputs": [
    {
     "name": "stdout",
     "output_type": "stream",
     "text": [
      "first_number before Update = 60.5\n",
      "first_number after Update = 62.0\n"
     ]
    }
   ],
   "source": [
    "first_number =  60.5\n",
    "print(\"first_number before Update = {}\".format(first_number))\n",
    "first_number = first_number + 1.5\n",
    "print(\"first_number after Update = {}\".format(first_number))"
   ]
  },
  {
   "cell_type": "code",
   "execution_count": 33,
   "id": "99580730",
   "metadata": {},
   "outputs": [
    {
     "name": "stdout",
     "output_type": "stream",
     "text": [
      "Initially x was 60\n",
      "Finally x is 60.5\n"
     ]
    }
   ],
   "source": [
    "x = 60\n",
    "print(\"Initially x was {}\".format(x))\n",
    "x = x + 0.5\n",
    "print(\"Finally x is {}\".format(x))"
   ]
  },
  {
   "cell_type": "code",
   "execution_count": 34,
   "id": "17f7b2e6",
   "metadata": {},
   "outputs": [
    {
     "name": "stdout",
     "output_type": "stream",
     "text": [
      "Initially x was 40\n",
      "Finally x is hi\n"
     ]
    }
   ],
   "source": [
    "x = 40\n",
    "print(\"Initially x was {}\".format(x))\n",
    "x = 'hi'\n",
    "print(\"Finally x is {}\".format(x))"
   ]
  },
  {
   "cell_type": "markdown",
   "id": "86d98d3b",
   "metadata": {},
   "source": [
    "# Assigning multiple values to multiple variables"
   ]
  },
  {
   "cell_type": "code",
   "execution_count": 35,
   "id": "1c75a606",
   "metadata": {},
   "outputs": [],
   "source": [
    "a, b = 5, 6"
   ]
  },
  {
   "cell_type": "code",
   "execution_count": 36,
   "id": "0e79ee54",
   "metadata": {},
   "outputs": [
    {
     "data": {
      "text/plain": [
       "5"
      ]
     },
     "execution_count": 36,
     "metadata": {},
     "output_type": "execute_result"
    }
   ],
   "source": [
    "a"
   ]
  },
  {
   "cell_type": "code",
   "execution_count": 37,
   "id": "459f5538",
   "metadata": {},
   "outputs": [
    {
     "data": {
      "text/plain": [
       "6"
      ]
     },
     "execution_count": 37,
     "metadata": {},
     "output_type": "execute_result"
    }
   ],
   "source": [
    "b"
   ]
  },
  {
   "cell_type": "markdown",
   "id": "63d6be66",
   "metadata": {},
   "source": [
    "# WAP to swap values between  two variables \n",
    "\n",
    "num1 = 78\n",
    "num2 = 60\n",
    "\n",
    "### After swap \n",
    "Output: num1 = 60, num2 = 78\n"
   ]
  },
  {
   "cell_type": "code",
   "execution_count": 38,
   "id": "c01c4db1",
   "metadata": {},
   "outputs": [
    {
     "name": "stdout",
     "output_type": "stream",
     "text": [
      "Before Swap num1 = 78 , num2 = 60\n",
      "After Swap num1 = 60 , num2 = 78\n"
     ]
    }
   ],
   "source": [
    "# Program\n",
    "num1 = 78\n",
    "num2 = 60\n",
    "\n",
    "print(\"Before Swap num1 = {} , num2 = {}\".format(num1, num2))\n",
    "num1 = num1 + num2  # num1 = 138 (78+60)\n",
    "num2 = num1 - num2  # num2 = 78  (138-60)\n",
    "num1 = num1 - num2  # num1 = 60   (138-78)\n",
    "print(\"After Swap num1 = {} , num2 = {}\".format(num1, num2))"
   ]
  },
  {
   "cell_type": "code",
   "execution_count": 39,
   "id": "eb49a377",
   "metadata": {},
   "outputs": [
    {
     "data": {
      "text/plain": [
       "(60, 78)"
      ]
     },
     "execution_count": 39,
     "metadata": {},
     "output_type": "execute_result"
    }
   ],
   "source": [
    "# Program\n",
    "num1 = 78\n",
    "num2 = 60\n",
    "num2, num1 = num1, num2\n",
    "num1,num2"
   ]
  }
 ],
 "metadata": {
  "kernelspec": {
   "display_name": "Python 3 (ipykernel)",
   "language": "python",
   "name": "python3"
  },
  "language_info": {
   "codemirror_mode": {
    "name": "ipython",
    "version": 3
   },
   "file_extension": ".py",
   "mimetype": "text/x-python",
   "name": "python",
   "nbconvert_exporter": "python",
   "pygments_lexer": "ipython3",
   "version": "3.8.10"
  }
 },
 "nbformat": 4,
 "nbformat_minor": 5
}
