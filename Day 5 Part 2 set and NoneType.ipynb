{
 "cells": [
  {
   "cell_type": "code",
   "execution_count": 1,
   "metadata": {
    "executionInfo": {
     "elapsed": 3,
     "status": "ok",
     "timestamp": 1664335557089,
     "user": {
      "displayName": "Kshitiz Regmi",
      "userId": "14206467826921940229"
     },
     "user_tz": -345
    },
    "id": "eKd4qJysH_Wj"
   },
   "outputs": [],
   "source": [
    "A = {\"apple\", \"mango\", \"banana\", 88}"
   ]
  },
  {
   "cell_type": "code",
   "execution_count": 2,
   "metadata": {
    "colab": {
     "base_uri": "https://localhost:8080/"
    },
    "executionInfo": {
     "elapsed": 3,
     "status": "ok",
     "timestamp": 1664335557090,
     "user": {
      "displayName": "Kshitiz Regmi",
      "userId": "14206467826921940229"
     },
     "user_tz": -345
    },
    "id": "60qf39G-IHhW",
    "outputId": "da2bfed7-0566-4c2e-d44e-a42b150d83a9"
   },
   "outputs": [
    {
     "name": "stdout",
     "output_type": "stream",
     "text": [
      "{88, 'apple', 'mango', 'banana'}\n"
     ]
    }
   ],
   "source": [
    "print(A) # unordered"
   ]
  },
  {
   "cell_type": "code",
   "execution_count": 3,
   "metadata": {
    "colab": {
     "base_uri": "https://localhost:8080/",
     "height": 166
    },
    "executionInfo": {
     "elapsed": 7,
     "status": "error",
     "timestamp": 1664335585846,
     "user": {
      "displayName": "Kshitiz Regmi",
      "userId": "14206467826921940229"
     },
     "user_tz": -345
    },
    "id": "FPZbVhuNINYm",
    "outputId": "d67929dd-ca64-44e2-e1d8-404a6235c971"
   },
   "outputs": [
    {
     "ename": "TypeError",
     "evalue": "'set' object is not subscriptable",
     "output_type": "error",
     "traceback": [
      "\u001b[0;31m---------------------------------------------------------------------------\u001b[0m",
      "\u001b[0;31mTypeError\u001b[0m                                 Traceback (most recent call last)",
      "Input \u001b[0;32mIn [3]\u001b[0m, in \u001b[0;36m<cell line: 1>\u001b[0;34m()\u001b[0m\n\u001b[0;32m----> 1\u001b[0m \u001b[43mA\u001b[49m\u001b[43m[\u001b[49m\u001b[38;5;241;43m0\u001b[39;49m\u001b[43m]\u001b[49m\n",
      "\u001b[0;31mTypeError\u001b[0m: 'set' object is not subscriptable"
     ]
    }
   ],
   "source": [
    "A[0]"
   ]
  },
  {
   "cell_type": "code",
   "execution_count": 4,
   "metadata": {
    "colab": {
     "base_uri": "https://localhost:8080/"
    },
    "executionInfo": {
     "elapsed": 518,
     "status": "ok",
     "timestamp": 1664335691367,
     "user": {
      "displayName": "Kshitiz Regmi",
      "userId": "14206467826921940229"
     },
     "user_tz": -345
    },
    "id": "z4bZ6emkIZlV",
    "outputId": "c813c572-e5c6-43bc-dda4-544fba3dc8c7"
   },
   "outputs": [
    {
     "name": "stdout",
     "output_type": "stream",
     "text": [
      "88\n",
      "apple\n",
      "mango\n",
      "banana\n"
     ]
    }
   ],
   "source": [
    "A = {\"apple\", \"mango\", \"banana\", 88}\n",
    "for item in A:\n",
    "    print(item)"
   ]
  },
  {
   "cell_type": "code",
   "execution_count": 5,
   "metadata": {},
   "outputs": [],
   "source": [
    "# set mutable data type\n",
    "car = {'audi', 'bmw', 'tesla'}"
   ]
  },
  {
   "cell_type": "code",
   "execution_count": 6,
   "metadata": {},
   "outputs": [],
   "source": [
    "car.add('mercedes')"
   ]
  },
  {
   "cell_type": "code",
   "execution_count": 7,
   "metadata": {},
   "outputs": [
    {
     "data": {
      "text/plain": [
       "{'audi', 'bmw', 'mercedes', 'tesla'}"
      ]
     },
     "execution_count": 7,
     "metadata": {},
     "output_type": "execute_result"
    }
   ],
   "source": [
    "car"
   ]
  },
  {
   "cell_type": "code",
   "execution_count": 8,
   "metadata": {},
   "outputs": [],
   "source": [
    "car.remove('tesla')"
   ]
  },
  {
   "cell_type": "code",
   "execution_count": 9,
   "metadata": {},
   "outputs": [
    {
     "data": {
      "text/plain": [
       "{'audi', 'bmw', 'mercedes'}"
      ]
     },
     "execution_count": 9,
     "metadata": {},
     "output_type": "execute_result"
    }
   ],
   "source": [
    "car"
   ]
  },
  {
   "cell_type": "code",
   "execution_count": 10,
   "metadata": {},
   "outputs": [
    {
     "data": {
      "text/plain": [
       "['mercedes', 'audi', 'bmw']"
      ]
     },
     "execution_count": 10,
     "metadata": {},
     "output_type": "execute_result"
    }
   ],
   "source": [
    "list(car)"
   ]
  },
  {
   "cell_type": "code",
   "execution_count": 11,
   "metadata": {},
   "outputs": [
    {
     "data": {
      "text/plain": [
       "('mercedes', 'audi', 'bmw')"
      ]
     },
     "execution_count": 11,
     "metadata": {},
     "output_type": "execute_result"
    }
   ],
   "source": [
    "tuple(car)"
   ]
  },
  {
   "cell_type": "markdown",
   "metadata": {},
   "source": [
    "# Python - Set Methods "
   ]
  },
  {
   "cell_type": "code",
   "execution_count": 12,
   "metadata": {
    "executionInfo": {
     "elapsed": 3,
     "status": "ok",
     "timestamp": 1664335731178,
     "user": {
      "displayName": "Kshitiz Regmi",
      "userId": "14206467826921940229"
     },
     "user_tz": -345
    },
    "id": "GUOzVCz9IzLK"
   },
   "outputs": [],
   "source": [
    "A = {\"apple\", \"banana\", \"cherry\"}\n",
    "B = {\"google\", \"microsoft\", \"apple\"}"
   ]
  },
  {
   "cell_type": "code",
   "execution_count": 13,
   "metadata": {
    "colab": {
     "base_uri": "https://localhost:8080/"
    },
    "executionInfo": {
     "elapsed": 4,
     "status": "ok",
     "timestamp": 1664335742439,
     "user": {
      "displayName": "Kshitiz Regmi",
      "userId": "14206467826921940229"
     },
     "user_tz": -345
    },
    "id": "wITMkW-hI9RP",
    "outputId": "e7d59184-171d-447e-e5ea-ddd98ab39da9"
   },
   "outputs": [
    {
     "data": {
      "text/plain": [
       "{'apple'}"
      ]
     },
     "execution_count": 13,
     "metadata": {},
     "output_type": "execute_result"
    }
   ],
   "source": [
    "A.intersection(B)"
   ]
  },
  {
   "cell_type": "code",
   "execution_count": 14,
   "metadata": {
    "colab": {
     "base_uri": "https://localhost:8080/"
    },
    "executionInfo": {
     "elapsed": 4,
     "status": "ok",
     "timestamp": 1664335757715,
     "user": {
      "displayName": "Kshitiz Regmi",
      "userId": "14206467826921940229"
     },
     "user_tz": -345
    },
    "id": "JThpfl0MI_zr",
    "outputId": "f042ddbe-2455-4397-db06-66f5e8341602"
   },
   "outputs": [
    {
     "data": {
      "text/plain": [
       "{'apple', 'banana', 'cherry', 'google', 'microsoft'}"
      ]
     },
     "execution_count": 14,
     "metadata": {},
     "output_type": "execute_result"
    }
   ],
   "source": [
    "B.union(A)"
   ]
  },
  {
   "cell_type": "code",
   "execution_count": 15,
   "metadata": {
    "colab": {
     "base_uri": "https://localhost:8080/"
    },
    "executionInfo": {
     "elapsed": 3,
     "status": "ok",
     "timestamp": 1664335782763,
     "user": {
      "displayName": "Kshitiz Regmi",
      "userId": "14206467826921940229"
     },
     "user_tz": -345
    },
    "id": "ROVsOShrJDq5",
    "outputId": "92a164cf-ce88-4f73-fe2e-6c83258a1aa1"
   },
   "outputs": [
    {
     "data": {
      "text/plain": [
       "{'banana', 'cherry'}"
      ]
     },
     "execution_count": 15,
     "metadata": {},
     "output_type": "execute_result"
    }
   ],
   "source": [
    "A - B"
   ]
  },
  {
   "cell_type": "code",
   "execution_count": 16,
   "metadata": {
    "colab": {
     "base_uri": "https://localhost:8080/"
    },
    "executionInfo": {
     "elapsed": 794,
     "status": "ok",
     "timestamp": 1664335803983,
     "user": {
      "displayName": "Kshitiz Regmi",
      "userId": "14206467826921940229"
     },
     "user_tz": -345
    },
    "id": "rzZ23ePzJJsO",
    "outputId": "513c6674-3913-482a-caf9-c229ea1286f5"
   },
   "outputs": [
    {
     "data": {
      "text/plain": [
       "{'banana', 'cherry'}"
      ]
     },
     "execution_count": 16,
     "metadata": {},
     "output_type": "execute_result"
    }
   ],
   "source": [
    "A.difference(B)"
   ]
  },
  {
   "cell_type": "markdown",
   "metadata": {},
   "source": [
    "# NoneType"
   ]
  },
  {
   "cell_type": "code",
   "execution_count": 17,
   "metadata": {
    "colab": {
     "base_uri": "https://localhost:8080/"
    },
    "executionInfo": {
     "elapsed": 3,
     "status": "ok",
     "timestamp": 1664335890282,
     "user": {
      "displayName": "Kshitiz Regmi",
      "userId": "14206467826921940229"
     },
     "user_tz": -345
    },
    "id": "LlMP3gbZJNr9",
    "outputId": "2b089929-e87b-49d7-fca1-05a84edf9346"
   },
   "outputs": [
    {
     "data": {
      "text/plain": [
       "NoneType"
      ]
     },
     "execution_count": 17,
     "metadata": {},
     "output_type": "execute_result"
    }
   ],
   "source": [
    "x = None\n",
    "type(x)"
   ]
  },
  {
   "cell_type": "code",
   "execution_count": 18,
   "metadata": {
    "executionInfo": {
     "elapsed": 3,
     "status": "ok",
     "timestamp": 1664335971502,
     "user": {
      "displayName": "Kshitiz Regmi",
      "userId": "14206467826921940229"
     },
     "user_tz": -345
    },
    "id": "iHjzyc9SJj57"
   },
   "outputs": [],
   "source": [
    "# None is a data type of its own (NoneType) and only None can be None.\n"
   ]
  },
  {
   "cell_type": "code",
   "execution_count": 19,
   "metadata": {
    "executionInfo": {
     "elapsed": 6,
     "status": "ok",
     "timestamp": 1664335980831,
     "user": {
      "displayName": "Kshitiz Regmi",
      "userId": "14206467826921940229"
     },
     "user_tz": -345
    },
    "id": "n68cD5xnJ4Dc"
   },
   "outputs": [],
   "source": [
    "x = None"
   ]
  },
  {
   "cell_type": "code",
   "execution_count": 20,
   "metadata": {
    "colab": {
     "base_uri": "https://localhost:8080/"
    },
    "executionInfo": {
     "elapsed": 552,
     "status": "ok",
     "timestamp": 1664335985413,
     "user": {
      "displayName": "Kshitiz Regmi",
      "userId": "14206467826921940229"
     },
     "user_tz": -345
    },
    "id": "jSt1_A2nJ6H9",
    "outputId": "c7c4e90e-4305-4aee-c6e8-b9fbdba9be1f"
   },
   "outputs": [
    {
     "data": {
      "text/plain": [
       "True"
      ]
     },
     "execution_count": 20,
     "metadata": {},
     "output_type": "execute_result"
    }
   ],
   "source": [
    "x is None"
   ]
  },
  {
   "cell_type": "code",
   "execution_count": 21,
   "metadata": {
    "colab": {
     "base_uri": "https://localhost:8080/"
    },
    "executionInfo": {
     "elapsed": 4,
     "status": "ok",
     "timestamp": 1664335999492,
     "user": {
      "displayName": "Kshitiz Regmi",
      "userId": "14206467826921940229"
     },
     "user_tz": -345
    },
    "id": "JuJG-J2FJ7L9",
    "outputId": "aeac1477-b6fd-460f-8916-dc35160704d4"
   },
   "outputs": [
    {
     "data": {
      "text/plain": [
       "True"
      ]
     },
     "execution_count": 21,
     "metadata": {},
     "output_type": "execute_result"
    }
   ],
   "source": [
    "x is not float"
   ]
  },
  {
   "cell_type": "code",
   "execution_count": 22,
   "metadata": {
    "colab": {
     "base_uri": "https://localhost:8080/"
    },
    "executionInfo": {
     "elapsed": 1001,
     "status": "ok",
     "timestamp": 1664336098825,
     "user": {
      "displayName": "Kshitiz Regmi",
      "userId": "14206467826921940229"
     },
     "user_tz": -345
    },
    "id": "OBDj1DDOJ-lb",
    "outputId": "9f20274d-9e71-4d92-d7eb-bbda5b3cb096"
   },
   "outputs": [
    {
     "name": "stdout",
     "output_type": "stream",
     "text": [
      "x is none\n"
     ]
    }
   ],
   "source": [
    "if x == None: # avoid this\n",
    "    print(\"x is none\")"
   ]
  },
  {
   "cell_type": "code",
   "execution_count": 23,
   "metadata": {
    "colab": {
     "base_uri": "https://localhost:8080/"
    },
    "executionInfo": {
     "elapsed": 4,
     "status": "ok",
     "timestamp": 1664336090953,
     "user": {
      "displayName": "Kshitiz Regmi",
      "userId": "14206467826921940229"
     },
     "user_tz": -345
    },
    "id": "98TfIG03KOdo",
    "outputId": "3f66ab1b-2cb6-4bd9-e1a4-a16be5e418f7"
   },
   "outputs": [
    {
     "name": "stdout",
     "output_type": "stream",
     "text": [
      "x is none\n"
     ]
    }
   ],
   "source": [
    "if x is None:\n",
    "    print(\"x is none\")"
   ]
  },
  {
   "cell_type": "code",
   "execution_count": null,
   "metadata": {
    "id": "XuzZ4mk3KlUs"
   },
   "outputs": [],
   "source": []
  },
  {
   "cell_type": "code",
   "execution_count": null,
   "metadata": {},
   "outputs": [],
   "source": []
  }
 ],
 "metadata": {
  "colab": {
   "authorship_tag": "ABX9TyN84C9VlHaNeYJ7H4JTg5pN",
   "collapsed_sections": [],
   "provenance": []
  },
  "kernelspec": {
   "display_name": "Python 3 (ipykernel)",
   "language": "python",
   "name": "python3"
  },
  "language_info": {
   "codemirror_mode": {
    "name": "ipython",
    "version": 3
   },
   "file_extension": ".py",
   "mimetype": "text/x-python",
   "name": "python",
   "nbconvert_exporter": "python",
   "pygments_lexer": "ipython3",
   "version": "3.8.10"
  }
 },
 "nbformat": 4,
 "nbformat_minor": 1
}
