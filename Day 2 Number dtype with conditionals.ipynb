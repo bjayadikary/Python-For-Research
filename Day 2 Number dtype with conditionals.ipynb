{
 "cells": [
  {
   "cell_type": "code",
   "execution_count": 1,
   "metadata": {
    "executionInfo": {
     "elapsed": 4,
     "status": "ok",
     "timestamp": 1664072671173,
     "user": {
      "displayName": "Kshitiz Regmi",
      "userId": "14206467826921940229"
     },
     "user_tz": -345
    },
    "id": "dj_sbOiscbR6"
   },
   "outputs": [],
   "source": [
    "a = 7"
   ]
  },
  {
   "cell_type": "code",
   "execution_count": 2,
   "metadata": {
    "colab": {
     "base_uri": "https://localhost:8080/"
    },
    "executionInfo": {
     "elapsed": 5,
     "status": "ok",
     "timestamp": 1664072717496,
     "user": {
      "displayName": "Kshitiz Regmi",
      "userId": "14206467826921940229"
     },
     "user_tz": -345
    },
    "id": "A5C6ZXCgc36O",
    "outputId": "3b8c06a2-049f-4018-b356-a39774e7e69c"
   },
   "outputs": [
    {
     "name": "stdout",
     "output_type": "stream",
     "text": [
      "<class 'int'>\n"
     ]
    }
   ],
   "source": [
    "print(type(a))"
   ]
  },
  {
   "cell_type": "code",
   "execution_count": 3,
   "metadata": {
    "colab": {
     "base_uri": "https://localhost:8080/"
    },
    "executionInfo": {
     "elapsed": 5,
     "status": "ok",
     "timestamp": 1664072734010,
     "user": {
      "displayName": "Kshitiz Regmi",
      "userId": "14206467826921940229"
     },
     "user_tz": -345
    },
    "id": "YR0mwRy6do_k",
    "outputId": "ea712fad-96e2-40f3-c14d-63f7ef5ca840"
   },
   "outputs": [
    {
     "data": {
      "text/plain": [
       "int"
      ]
     },
     "execution_count": 3,
     "metadata": {},
     "output_type": "execute_result"
    }
   ],
   "source": [
    "type(a)"
   ]
  },
  {
   "cell_type": "code",
   "execution_count": 4,
   "metadata": {
    "colab": {
     "base_uri": "https://localhost:8080/"
    },
    "executionInfo": {
     "elapsed": 6,
     "status": "ok",
     "timestamp": 1664072744062,
     "user": {
      "displayName": "Kshitiz Regmi",
      "userId": "14206467826921940229"
     },
     "user_tz": -345
    },
    "id": "oPkgpwetds9F",
    "outputId": "546ca210-81e1-42cd-cb44-9b800888033c"
   },
   "outputs": [
    {
     "data": {
      "text/plain": [
       "str"
      ]
     },
     "execution_count": 4,
     "metadata": {},
     "output_type": "execute_result"
    }
   ],
   "source": [
    "type(\"Hi\")"
   ]
  },
  {
   "cell_type": "markdown",
   "metadata": {
    "id": "gEPclaDMeBHE"
   },
   "source": [
    "# Python Numbers"
   ]
  },
  {
   "cell_type": "code",
   "execution_count": 5,
   "metadata": {
    "executionInfo": {
     "elapsed": 5,
     "status": "ok",
     "timestamp": 1664072847116,
     "user": {
      "displayName": "Kshitiz Regmi",
      "userId": "14206467826921940229"
     },
     "user_tz": -345
    },
    "id": "qQXOvAf7dvby"
   },
   "outputs": [],
   "source": [
    "a = 8\n",
    "b = 0.9\n",
    "c = 2 - 0.5j"
   ]
  },
  {
   "cell_type": "code",
   "execution_count": 6,
   "metadata": {
    "colab": {
     "base_uri": "https://localhost:8080/"
    },
    "executionInfo": {
     "elapsed": 420,
     "status": "ok",
     "timestamp": 1664072869566,
     "user": {
      "displayName": "Kshitiz Regmi",
      "userId": "14206467826921940229"
     },
     "user_tz": -345
    },
    "id": "888klYcheIra",
    "outputId": "d557ebed-e025-4f83-9af8-96a523be3a7e"
   },
   "outputs": [
    {
     "name": "stdout",
     "output_type": "stream",
     "text": [
      "<class 'int'>\n",
      "<class 'float'>\n",
      "<class 'complex'>\n"
     ]
    }
   ],
   "source": [
    "# type checking in python\n",
    "print(type(a))\n",
    "print(type(b))\n",
    "print(type(c))"
   ]
  },
  {
   "cell_type": "code",
   "execution_count": 7,
   "metadata": {
    "colab": {
     "base_uri": "https://localhost:8080/"
    },
    "executionInfo": {
     "elapsed": 7,
     "status": "ok",
     "timestamp": 1664072947945,
     "user": {
      "displayName": "Kshitiz Regmi",
      "userId": "14206467826921940229"
     },
     "user_tz": -345
    },
    "id": "u88uLbP8eNNq",
    "outputId": "15dbab88-13e3-421c-f346-ef4f6c31ccef"
   },
   "outputs": [
    {
     "data": {
      "text/plain": [
       "True"
      ]
     },
     "execution_count": 7,
     "metadata": {},
     "output_type": "execute_result"
    }
   ],
   "source": [
    "isinstance(a, int)"
   ]
  },
  {
   "cell_type": "code",
   "execution_count": 8,
   "metadata": {},
   "outputs": [
    {
     "data": {
      "text/plain": [
       "False"
      ]
     },
     "execution_count": 8,
     "metadata": {},
     "output_type": "execute_result"
    }
   ],
   "source": [
    "isinstance(a, float)"
   ]
  },
  {
   "cell_type": "code",
   "execution_count": 9,
   "metadata": {
    "id": "VQ8G6IjfebD0"
   },
   "outputs": [],
   "source": [
    "# True, False -- bool in python"
   ]
  },
  {
   "cell_type": "markdown",
   "metadata": {
    "id": "N7b3tYuAe4ye"
   },
   "source": [
    "# Taking input from the user"
   ]
  },
  {
   "cell_type": "code",
   "execution_count": 10,
   "metadata": {
    "colab": {
     "base_uri": "https://localhost:8080/"
    },
    "executionInfo": {
     "elapsed": 5522,
     "status": "ok",
     "timestamp": 1664073120158,
     "user": {
      "displayName": "Kshitiz Regmi",
      "userId": "14206467826921940229"
     },
     "user_tz": -345
    },
    "id": "tgDc4HL6e21V",
    "outputId": "c1cfcd58-fcf5-4891-b6f7-42ce592cf5f9"
   },
   "outputs": [
    {
     "name": "stdout",
     "output_type": "stream",
     "text": [
      "Enter a number : 5\n"
     ]
    }
   ],
   "source": [
    "num1 = input(\"Enter a number : \")"
   ]
  },
  {
   "cell_type": "code",
   "execution_count": 11,
   "metadata": {
    "colab": {
     "base_uri": "https://localhost:8080/",
     "height": 35
    },
    "executionInfo": {
     "elapsed": 9,
     "status": "ok",
     "timestamp": 1664073124420,
     "user": {
      "displayName": "Kshitiz Regmi",
      "userId": "14206467826921940229"
     },
     "user_tz": -345
    },
    "id": "dSJTESs1fJ8K",
    "outputId": "b8d0186e-7d26-4228-958e-72a9abc081d7"
   },
   "outputs": [
    {
     "data": {
      "text/plain": [
       "'5'"
      ]
     },
     "execution_count": 11,
     "metadata": {},
     "output_type": "execute_result"
    }
   ],
   "source": [
    "num1"
   ]
  },
  {
   "cell_type": "code",
   "execution_count": 12,
   "metadata": {
    "colab": {
     "base_uri": "https://localhost:8080/"
    },
    "executionInfo": {
     "elapsed": 7161,
     "status": "ok",
     "timestamp": 1664073222486,
     "user": {
      "displayName": "Kshitiz Regmi",
      "userId": "14206467826921940229"
     },
     "user_tz": -345
    },
    "id": "e3Zp6V0mfMQv",
    "outputId": "775ae8c3-69f9-4749-ad6c-afd5cae4f88e"
   },
   "outputs": [
    {
     "name": "stdout",
     "output_type": "stream",
     "text": [
      "Enter first Number : 5\n",
      "Enter second Number: 6\n",
      "56\n"
     ]
    }
   ],
   "source": [
    "num1 = input(\"Enter first Number : \")\n",
    "num2 = input(\"Enter second Number: \")\n",
    "total = num1 + num2 \n",
    "print(total)"
   ]
  },
  {
   "cell_type": "markdown",
   "metadata": {},
   "source": [
    "# Typechecking "
   ]
  },
  {
   "cell_type": "code",
   "execution_count": 13,
   "metadata": {},
   "outputs": [
    {
     "name": "stdout",
     "output_type": "stream",
     "text": [
      "Enter first Number : 5\n"
     ]
    },
    {
     "data": {
      "text/plain": [
       "str"
      ]
     },
     "execution_count": 13,
     "metadata": {},
     "output_type": "execute_result"
    }
   ],
   "source": [
    "num1 = input(\"Enter first Number : \")\n",
    "type(num1)"
   ]
  },
  {
   "cell_type": "markdown",
   "metadata": {},
   "source": [
    "# Typecasting"
   ]
  },
  {
   "cell_type": "code",
   "execution_count": 20,
   "metadata": {
    "colab": {
     "base_uri": "https://localhost:8080/"
    },
    "executionInfo": {
     "elapsed": 2979,
     "status": "ok",
     "timestamp": 1664073332601,
     "user": {
      "displayName": "Kshitiz Regmi",
      "userId": "14206467826921940229"
     },
     "user_tz": -345
    },
    "id": "20YGS831fiql",
    "outputId": "3aeff5d6-8150-4849-8dfa-980885dcecb0"
   },
   "outputs": [
    {
     "name": "stdout",
     "output_type": "stream",
     "text": [
      "Enter first Number : 9\n"
     ]
    },
    {
     "data": {
      "text/plain": [
       "int"
      ]
     },
     "execution_count": 20,
     "metadata": {},
     "output_type": "execute_result"
    }
   ],
   "source": [
    "num1 = int(input(\"Enter first Number : \"))\n",
    "type(num1)"
   ]
  },
  {
   "cell_type": "code",
   "execution_count": 22,
   "metadata": {
    "colab": {
     "base_uri": "https://localhost:8080/"
    },
    "executionInfo": {
     "elapsed": 5170,
     "status": "ok",
     "timestamp": 1664073414057,
     "user": {
      "displayName": "Kshitiz Regmi",
      "userId": "14206467826921940229"
     },
     "user_tz": -345
    },
    "id": "Emt2mVJwfrHv",
    "outputId": "12a9f885-3944-4ac2-aa87-e4f75d787d87"
   },
   "outputs": [
    {
     "name": "stdout",
     "output_type": "stream",
     "text": [
      "Enter first Number : 99\n",
      "Enter second Number: 6\n",
      "The sum of 99 and 6 is 105\n"
     ]
    }
   ],
   "source": [
    "num1 = int(input(\"Enter first Number : \")) # type casting\n",
    "num2 = int(input(\"Enter second Number: \"))\n",
    "total = num1 + num2\n",
    "print(\"The sum of {} and {} is {}\".format(num1, num2, total))"
   ]
  },
  {
   "cell_type": "markdown",
   "metadata": {
    "id": "urGAZia9gw3a"
   },
   "source": [
    "# conditionals in python"
   ]
  },
  {
   "cell_type": "code",
   "execution_count": 23,
   "metadata": {
    "colab": {
     "base_uri": "https://localhost:8080/"
    },
    "executionInfo": {
     "elapsed": 2846,
     "status": "ok",
     "timestamp": 1664073713129,
     "user": {
      "displayName": "Kshitiz Regmi",
      "userId": "14206467826921940229"
     },
     "user_tz": -345
    },
    "id": "ukgv9Fwjf0ZQ",
    "outputId": "cc2a31e8-e526-45e3-d654-59d843be339f"
   },
   "outputs": [
    {
     "name": "stdout",
     "output_type": "stream",
     "text": [
      "Enter a number : 4\n"
     ]
    }
   ],
   "source": [
    "user_input = int(input(\"Enter a number : \"))"
   ]
  },
  {
   "cell_type": "code",
   "execution_count": 25,
   "metadata": {
    "executionInfo": {
     "elapsed": 421,
     "status": "ok",
     "timestamp": 1664073773865,
     "user": {
      "displayName": "Kshitiz Regmi",
      "userId": "14206467826921940229"
     },
     "user_tz": -345
    },
    "id": "FCsWHz_lhbfz"
   },
   "outputs": [],
   "source": [
    "rem = user_input % 2"
   ]
  },
  {
   "cell_type": "code",
   "execution_count": 26,
   "metadata": {
    "colab": {
     "base_uri": "https://localhost:8080/"
    },
    "executionInfo": {
     "elapsed": 6,
     "status": "ok",
     "timestamp": 1664073857134,
     "user": {
      "displayName": "Kshitiz Regmi",
      "userId": "14206467826921940229"
     },
     "user_tz": -345
    },
    "id": "wDET1yeGhf7y",
    "outputId": "6f1a926e-1f60-40be-8359-f9389f7e76a0"
   },
   "outputs": [
    {
     "name": "stdout",
     "output_type": "stream",
     "text": [
      "The number is even\n"
     ]
    }
   ],
   "source": [
    "if rem == 0:\n",
    "    print(\"The number is even\")\n",
    "else:\n",
    "    print(\"The number is odd\")"
   ]
  },
  {
   "cell_type": "code",
   "execution_count": 27,
   "metadata": {
    "colab": {
     "base_uri": "https://localhost:8080/"
    },
    "executionInfo": {
     "elapsed": 2576,
     "status": "ok",
     "timestamp": 1664073880123,
     "user": {
      "displayName": "Kshitiz Regmi",
      "userId": "14206467826921940229"
     },
     "user_tz": -345
    },
    "id": "0XX_C0_hh_Rq",
    "outputId": "b1e87457-388e-4fd1-bfa1-ca7ce9bd8753"
   },
   "outputs": [
    {
     "name": "stdout",
     "output_type": "stream",
     "text": [
      "Enter a number : 9\n",
      "The number is odd\n"
     ]
    }
   ],
   "source": [
    "user_input = int(input(\"Enter a number : \"))\n",
    "rem = user_input % 2\n",
    "if rem == 0:\n",
    "    print(\"The number is even\")\n",
    "else:\n",
    "    print(\"The number is odd\")"
   ]
  },
  {
   "cell_type": "code",
   "execution_count": 30,
   "metadata": {
    "colab": {
     "base_uri": "https://localhost:8080/"
    },
    "executionInfo": {
     "elapsed": 9,
     "status": "ok",
     "timestamp": 1664073984924,
     "user": {
      "displayName": "Kshitiz Regmi",
      "userId": "14206467826921940229"
     },
     "user_tz": -345
    },
    "id": "d9ZSw2lviEMp",
    "outputId": "0d5bfdc5-af8b-4e8c-e9d8-509b082b43f1"
   },
   "outputs": [
    {
     "name": "stdout",
     "output_type": "stream",
     "text": [
      "equal\n"
     ]
    }
   ],
   "source": [
    "if 10 == 10:\n",
    "    print(\"equal\")"
   ]
  },
  {
   "cell_type": "code",
   "execution_count": null,
   "metadata": {
    "id": "LolQWpP4iY7K"
   },
   "outputs": [],
   "source": [
    "# == compares values of two object -- comparision operator"
   ]
  },
  {
   "cell_type": "code",
   "execution_count": null,
   "metadata": {
    "id": "RcHXZ8bfipdo"
   },
   "outputs": [],
   "source": [
    "# =  means assign\n",
    "# == means compare "
   ]
  },
  {
   "cell_type": "code",
   "execution_count": 31,
   "metadata": {
    "colab": {
     "base_uri": "https://localhost:8080/"
    },
    "executionInfo": {
     "elapsed": 406,
     "status": "ok",
     "timestamp": 1664074298025,
     "user": {
      "displayName": "Kshitiz Regmi",
      "userId": "14206467826921940229"
     },
     "user_tz": -345
    },
    "id": "WGRqogGLiphu",
    "outputId": "cffce504-d752-426c-bae8-904008d06987"
   },
   "outputs": [
    {
     "data": {
      "text/plain": [
       "False"
      ]
     },
     "execution_count": 31,
     "metadata": {},
     "output_type": "execute_result"
    }
   ],
   "source": [
    "2 < 2"
   ]
  },
  {
   "cell_type": "code",
   "execution_count": 32,
   "metadata": {
    "colab": {
     "base_uri": "https://localhost:8080/"
    },
    "executionInfo": {
     "elapsed": 9,
     "status": "ok",
     "timestamp": 1664074303659,
     "user": {
      "displayName": "Kshitiz Regmi",
      "userId": "14206467826921940229"
     },
     "user_tz": -345
    },
    "id": "Bidc70G6ipke",
    "outputId": "489a8ee3-0350-43e3-bd1b-0d66b8be68f0"
   },
   "outputs": [
    {
     "data": {
      "text/plain": [
       "True"
      ]
     },
     "execution_count": 32,
     "metadata": {},
     "output_type": "execute_result"
    }
   ],
   "source": [
    "2 > 1"
   ]
  },
  {
   "cell_type": "code",
   "execution_count": 35,
   "metadata": {
    "colab": {
     "base_uri": "https://localhost:8080/"
    },
    "executionInfo": {
     "elapsed": 5,
     "status": "ok",
     "timestamp": 1664074342115,
     "user": {
      "displayName": "Kshitiz Regmi",
      "userId": "14206467826921940229"
     },
     "user_tz": -345
    },
    "id": "3NgkI2x0ipnN",
    "outputId": "691572ae-d9d6-45e9-bba3-7dc2aa7f6346"
   },
   "outputs": [
    {
     "data": {
      "text/plain": [
       "True"
      ]
     },
     "execution_count": 35,
     "metadata": {},
     "output_type": "execute_result"
    }
   ],
   "source": [
    "5 <= 6"
   ]
  },
  {
   "cell_type": "code",
   "execution_count": 36,
   "metadata": {
    "colab": {
     "base_uri": "https://localhost:8080/"
    },
    "executionInfo": {
     "elapsed": 11,
     "status": "ok",
     "timestamp": 1664074350640,
     "user": {
      "displayName": "Kshitiz Regmi",
      "userId": "14206467826921940229"
     },
     "user_tz": -345
    },
    "id": "gtjzWrJ_jy9b",
    "outputId": "7a0a18ee-86fd-4d14-c1c7-c268938e6a78"
   },
   "outputs": [
    {
     "data": {
      "text/plain": [
       "False"
      ]
     },
     "execution_count": 36,
     "metadata": {},
     "output_type": "execute_result"
    }
   ],
   "source": [
    "6 >= 9"
   ]
  },
  {
   "cell_type": "code",
   "execution_count": 37,
   "metadata": {
    "colab": {
     "base_uri": "https://localhost:8080/"
    },
    "executionInfo": {
     "elapsed": 6,
     "status": "ok",
     "timestamp": 1664074368455,
     "user": {
      "displayName": "Kshitiz Regmi",
      "userId": "14206467826921940229"
     },
     "user_tz": -345
    },
    "id": "1dwBrMkCj3zy",
    "outputId": "96309221-b463-4cab-f4ce-df742496600a"
   },
   "outputs": [
    {
     "data": {
      "text/plain": [
       "True"
      ]
     },
     "execution_count": 37,
     "metadata": {},
     "output_type": "execute_result"
    }
   ],
   "source": [
    "2 != 8 # not equals to"
   ]
  },
  {
   "cell_type": "code",
   "execution_count": null,
   "metadata": {
    "id": "5MdideBjj8Kj"
   },
   "outputs": [],
   "source": [
    "# write a program to take input \n",
    "# from the user and check if input number is positive or negative"
   ]
  },
  {
   "cell_type": "code",
   "execution_count": 38,
   "metadata": {
    "colab": {
     "base_uri": "https://localhost:8080/"
    },
    "executionInfo": {
     "elapsed": 5,
     "status": "ok",
     "timestamp": 1664074724822,
     "user": {
      "displayName": "Kshitiz Regmi",
      "userId": "14206467826921940229"
     },
     "user_tz": -345
    },
    "id": "GfiQGEJ-k4_X",
    "outputId": "f60cb18f-a9ab-466b-f2ee-af80640bfbf1"
   },
   "outputs": [
    {
     "name": "stdout",
     "output_type": "stream",
     "text": [
      "else code\n"
     ]
    }
   ],
   "source": [
    "if 10 != 10:\n",
    "    print(\"if code\")\n",
    "    \n",
    "else:\n",
    "    print(\"else code\")"
   ]
  },
  {
   "cell_type": "markdown",
   "metadata": {
    "id": "sIRYaMqSmJkN"
   },
   "source": [
    "# WAP to check if the user input is zero, positive and negative, and print respective message.\n"
   ]
  },
  {
   "cell_type": "code",
   "execution_count": 41,
   "metadata": {
    "colab": {
     "base_uri": "https://localhost:8080/"
    },
    "executionInfo": {
     "elapsed": 2328,
     "status": "ok",
     "timestamp": 1664075064029,
     "user": {
      "displayName": "Kshitiz Regmi",
      "userId": "14206467826921940229"
     },
     "user_tz": -345
    },
    "id": "Ce2gijCHlTF-",
    "outputId": "c1b459c3-7b68-4892-bcd9-229ed1225683"
   },
   "outputs": [
    {
     "name": "stdout",
     "output_type": "stream",
     "text": [
      "Enter a number: 0\n",
      "Zero\n"
     ]
    }
   ],
   "source": [
    "user_input = int(input(\"Enter a number: \"))\n",
    "if user_input < 0:\n",
    "    print(\"Negative\")\n",
    "\n",
    "if user_input == 0:\n",
    "    print(\"Zero\")\n",
    "\n",
    "if user_input > 0:\n",
    "    print(\"Positive\")"
   ]
  },
  {
   "cell_type": "code",
   "execution_count": 44,
   "metadata": {
    "colab": {
     "base_uri": "https://localhost:8080/"
    },
    "executionInfo": {
     "elapsed": 2834,
     "status": "ok",
     "timestamp": 1664075136631,
     "user": {
      "displayName": "Kshitiz Regmi",
      "userId": "14206467826921940229"
     },
     "user_tz": -345
    },
    "id": "ZP26Op5Nmiws",
    "outputId": "c1c7b181-83cc-438d-ec65-7159df3eb607"
   },
   "outputs": [
    {
     "name": "stdout",
     "output_type": "stream",
     "text": [
      "Enter a number: -9\n",
      "Negative\n"
     ]
    }
   ],
   "source": [
    " # nesting of conditionals\n",
    "user_input = int(input(\"Enter a number: \"))\n",
    "if user_input < 0:\n",
    "    print(\"Negative\")\n",
    "\n",
    "else:\n",
    "    if user_input == 0:\n",
    "        print(\"zero\")\n",
    "    else:\n",
    "        print(\"positive\")\n",
    "\n"
   ]
  },
  {
   "cell_type": "markdown",
   "metadata": {
    "id": "307XdVIInumr"
   },
   "source": [
    "# chained conditionals"
   ]
  },
  {
   "cell_type": "code",
   "execution_count": 47,
   "metadata": {
    "colab": {
     "base_uri": "https://localhost:8080/"
    },
    "executionInfo": {
     "elapsed": 2141,
     "status": "ok",
     "timestamp": 1664075456184,
     "user": {
      "displayName": "Kshitiz Regmi",
      "userId": "14206467826921940229"
     },
     "user_tz": -345
    },
    "id": "zysVIp3Lnv77",
    "outputId": "7015a3a5-7d81-49ce-86f1-c9c52e7ab167"
   },
   "outputs": [
    {
     "name": "stdout",
     "output_type": "stream",
     "text": [
      "Enter a number: 0\n",
      "zero\n"
     ]
    }
   ],
   "source": [
    "user_input = int(input(\"Enter a number: \"))\n",
    "\n",
    "if user_input == 0:\n",
    "    print(\"zero\")\n",
    "\n",
    "elif user_input < 0:\n",
    "    print(\"negative\")\n",
    "\n",
    "else:\n",
    "    print(\"positve\")"
   ]
  },
  {
   "cell_type": "code",
   "execution_count": 48,
   "metadata": {
    "colab": {
     "base_uri": "https://localhost:8080/"
    },
    "executionInfo": {
     "elapsed": 4144,
     "status": "ok",
     "timestamp": 1664075499330,
     "user": {
      "displayName": "Kshitiz Regmi",
      "userId": "14206467826921940229"
     },
     "user_tz": -345
    },
    "id": "P1uKh0T4oC8c",
    "outputId": "daec316d-c309-49b1-ed98-79c7480d70fa"
   },
   "outputs": [
    {
     "name": "stdout",
     "output_type": "stream",
     "text": [
      "Enter a number: 99\n",
      "positve\n"
     ]
    }
   ],
   "source": [
    "user_input = int(input(\"Enter a number: \"))\n",
    "\n",
    "if user_input == 0:\n",
    "    print(\"zero\")\n",
    "\n",
    "elif user_input < 0:\n",
    "    print(\"negative\")\n",
    "\n",
    "elif user_input > 0:\n",
    "    print(\"positve\")"
   ]
  },
  {
   "cell_type": "markdown",
   "metadata": {
    "id": "UVdgTX8_p6Bs"
   },
   "source": [
    "![image.png](data:image/png;base64,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)"
   ]
  },
  {
   "cell_type": "code",
   "execution_count": 52,
   "metadata": {
    "colab": {
     "base_uri": "https://localhost:8080/"
    },
    "executionInfo": {
     "elapsed": 8444,
     "status": "ok",
     "timestamp": 1664076396851,
     "user": {
      "displayName": "Kshitiz Regmi",
      "userId": "14206467826921940229"
     },
     "user_tz": -345
    },
    "id": "nwtv8r0SoPMB",
    "outputId": "e8f37157-49f1-4d3e-f9e4-375909b6ceb8"
   },
   "outputs": [
    {
     "name": "stdout",
     "output_type": "stream",
     "text": [
      "Weight = 72\n",
      "height = 183\n",
      "normal weight\n"
     ]
    }
   ],
   "source": [
    "w = int(input(\"Weight = \"))\n",
    "h = int(input(\"height = \"))\n",
    "h_m = h / 100\n",
    "BMI = w / (h_m ** 2)\n",
    "\n",
    "if BMI < 18.5:\n",
    "    print(\"Underweight\")\n",
    "\n",
    "elif BMI >=18.5 and BMI <= 24.9:\n",
    "    print(\"normal weight\")\n",
    "\n",
    "elif BMI >= 25 and BMI <= 29.9:\n",
    "    print(\"Overweight\")\n",
    "\n",
    "elif BMI == 30 or BMI > 30:\n",
    "    print(\"Obisity\")"
   ]
  },
  {
   "cell_type": "code",
   "execution_count": 53,
   "metadata": {
    "colab": {
     "base_uri": "https://localhost:8080/"
    },
    "executionInfo": {
     "elapsed": 7,
     "status": "ok",
     "timestamp": 1664076558175,
     "user": {
      "displayName": "Kshitiz Regmi",
      "userId": "14206467826921940229"
     },
     "user_tz": -345
    },
    "id": "Xmp7bvRwqF_L",
    "outputId": "15cfed38-e400-4e94-a869-cce54d1973a2"
   },
   "outputs": [
    {
     "data": {
      "text/plain": [
       "False"
      ]
     },
     "execution_count": 53,
     "metadata": {},
     "output_type": "execute_result"
    }
   ],
   "source": [
    "not True"
   ]
  },
  {
   "cell_type": "code",
   "execution_count": 54,
   "metadata": {
    "colab": {
     "base_uri": "https://localhost:8080/"
    },
    "executionInfo": {
     "elapsed": 6,
     "status": "ok",
     "timestamp": 1664076562265,
     "user": {
      "displayName": "Kshitiz Regmi",
      "userId": "14206467826921940229"
     },
     "user_tz": -345
    },
    "id": "z5Q24fcwsSq8",
    "outputId": "e6413ccf-d940-4c46-812d-e3f073c161dc"
   },
   "outputs": [
    {
     "data": {
      "text/plain": [
       "True"
      ]
     },
     "execution_count": 54,
     "metadata": {},
     "output_type": "execute_result"
    }
   ],
   "source": [
    "not False"
   ]
  },
  {
   "cell_type": "code",
   "execution_count": 55,
   "metadata": {
    "colab": {
     "base_uri": "https://localhost:8080/"
    },
    "executionInfo": {
     "elapsed": 7332,
     "status": "ok",
     "timestamp": 1664076734053,
     "user": {
      "displayName": "Kshitiz Regmi",
      "userId": "14206467826921940229"
     },
     "user_tz": -345
    },
    "id": "MbrGOj8NsTl6",
    "outputId": "4b725a78-749f-417a-d2de-1d1c3307ada0"
   },
   "outputs": [
    {
     "name": "stdout",
     "output_type": "stream",
     "text": [
      "Weight:8\n",
      "Height:6\n",
      "obesity\n"
     ]
    }
   ],
   "source": [
    "w=int(input(\"Weight:\"))\n",
    "H=int(input(\"Height:\"))\n",
    "h_m= H/100\n",
    "BMI= w/(h_m **2)\n",
    "if BMI<18.5:\n",
    "    print(\"underweight\")\n",
    "elif BMI>=18.5 and BMI<=25.9:\n",
    "      print(\"Normal weight\")\n",
    "elif BMI>=25 and BMI<=29.9:\n",
    "    print(\"overweight\")\n",
    "elif BMI== 30 or BMI>30:\n",
    "    print(\"obesity\")"
   ]
  },
  {
   "cell_type": "code",
   "execution_count": null,
   "metadata": {
    "id": "sDSrb5y_s70B"
   },
   "outputs": [],
   "source": []
  }
 ],
 "metadata": {
  "colab": {
   "authorship_tag": "ABX9TyO44AuHfW9/bJDPI8lpfd/d",
   "provenance": []
  },
  "kernelspec": {
   "display_name": "Python 3 (ipykernel)",
   "language": "python",
   "name": "python3"
  },
  "language_info": {
   "codemirror_mode": {
    "name": "ipython",
    "version": 3
   },
   "file_extension": ".py",
   "mimetype": "text/x-python",
   "name": "python",
   "nbconvert_exporter": "python",
   "pygments_lexer": "ipython3",
   "version": "3.8.10"
  }
 },
 "nbformat": 4,
 "nbformat_minor": 1
}
