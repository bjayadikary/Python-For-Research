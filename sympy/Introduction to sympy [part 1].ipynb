{
 "cells": [
  {
   "cell_type": "markdown",
   "metadata": {
    "id": "HQJzEkFSMbcc"
   },
   "source": [
    "# Sympy \n",
    "\n",
    "## Introduction"
   ]
  },
  {
   "cell_type": "code",
   "execution_count": 1,
   "metadata": {},
   "outputs": [],
   "source": [
    "# !pip install SciencePlots\n",
    "import matplotlib.pyplot as plt\n",
    "plt.style.reload_library()\n",
    "plt.style.use(['science', 'notebook', 'grid'])"
   ]
  },
  {
   "cell_type": "code",
   "execution_count": 2,
   "metadata": {
    "id": "0BAbl2y3Mfsm"
   },
   "outputs": [],
   "source": [
    "from sympy import *"
   ]
  },
  {
   "cell_type": "markdown",
   "metadata": {
    "id": "tjuGK3ntNX8J"
   },
   "source": [
    "Let's define a symbolic expression representing mathematical expression $x + 2y$"
   ]
  },
  {
   "cell_type": "code",
   "execution_count": 3,
   "metadata": {
    "id": "nLPBPdGaNIXT"
   },
   "outputs": [],
   "source": [
    "x , y = symbols('x y')"
   ]
  },
  {
   "cell_type": "code",
   "execution_count": 4,
   "metadata": {
    "id": "a2-p7QoTNU8z"
   },
   "outputs": [],
   "source": [
    "expression = x + 2 * y"
   ]
  },
  {
   "cell_type": "code",
   "execution_count": 5,
   "metadata": {
    "colab": {
     "base_uri": "https://localhost:8080/",
     "height": 39
    },
    "executionInfo": {
     "elapsed": 1454,
     "status": "ok",
     "timestamp": 1666247854804,
     "user": {
      "displayName": "Kshitiz Regmi",
      "userId": "14206467826921940229"
     },
     "user_tz": -345
    },
    "id": "c_7yDxWhNqvE",
    "outputId": "f4212e24-b72a-44c8-9555-b24b79ccdc6a"
   },
   "outputs": [
    {
     "data": {
      "text/latex": [
       "$\\displaystyle x + 2 y$"
      ],
      "text/plain": [
       "x + 2*y"
      ]
     },
     "metadata": {},
     "output_type": "display_data"
    }
   ],
   "source": [
    "display(expression)"
   ]
  },
  {
   "cell_type": "code",
   "execution_count": 6,
   "metadata": {
    "colab": {
     "base_uri": "https://localhost:8080/",
     "height": 39
    },
    "executionInfo": {
     "elapsed": 56,
     "status": "ok",
     "timestamp": 1666247854806,
     "user": {
      "displayName": "Kshitiz Regmi",
      "userId": "14206467826921940229"
     },
     "user_tz": -345
    },
    "id": "nTtW0-SaN7xr",
    "outputId": "0cf59a5c-18b5-48bb-d958-3b9ae4ce6313"
   },
   "outputs": [
    {
     "data": {
      "text/latex": [
       "$\\displaystyle x + 2 y + 1$"
      ],
      "text/plain": [
       "x + 2*y + 1"
      ]
     },
     "metadata": {},
     "output_type": "display_data"
    }
   ],
   "source": [
    "# add 1 to the expression\n",
    "display(expression + 1)"
   ]
  },
  {
   "cell_type": "code",
   "execution_count": 7,
   "metadata": {
    "colab": {
     "base_uri": "https://localhost:8080/",
     "height": 39
    },
    "executionInfo": {
     "elapsed": 54,
     "status": "ok",
     "timestamp": 1666247854807,
     "user": {
      "displayName": "Kshitiz Regmi",
      "userId": "14206467826921940229"
     },
     "user_tz": -345
    },
    "id": "veFzNiRrOU8E",
    "outputId": "3ec0bb4a-972b-4d15-af86-a5578bc684e3"
   },
   "outputs": [
    {
     "data": {
      "text/latex": [
       "$\\displaystyle 2 y$"
      ],
      "text/plain": [
       "2*y"
      ]
     },
     "metadata": {},
     "output_type": "display_data"
    }
   ],
   "source": [
    "display(expression - x)"
   ]
  },
  {
   "cell_type": "code",
   "execution_count": 8,
   "metadata": {
    "colab": {
     "base_uri": "https://localhost:8080/",
     "height": 39
    },
    "executionInfo": {
     "elapsed": 55,
     "status": "ok",
     "timestamp": 1666247854809,
     "user": {
      "displayName": "Kshitiz Regmi",
      "userId": "14206467826921940229"
     },
     "user_tz": -345
    },
    "id": "w5FpGFRYObFP",
    "outputId": "1b6548e0-0d94-402b-a3b4-00104482e3eb"
   },
   "outputs": [
    {
     "data": {
      "text/latex": [
       "$\\displaystyle x + 2 y$"
      ],
      "text/plain": [
       "x + 2*y"
      ]
     },
     "metadata": {},
     "output_type": "display_data"
    }
   ],
   "source": [
    "display(expression)"
   ]
  },
  {
   "cell_type": "code",
   "execution_count": 9,
   "metadata": {
    "colab": {
     "base_uri": "https://localhost:8080/",
     "height": 37
    },
    "executionInfo": {
     "elapsed": 55,
     "status": "ok",
     "timestamp": 1666247854810,
     "user": {
      "displayName": "Kshitiz Regmi",
      "userId": "14206467826921940229"
     },
     "user_tz": -345
    },
    "id": "auoN80VLOqpK",
    "outputId": "262d33d6-744f-4066-bc45-d18628a2cf79"
   },
   "outputs": [
    {
     "data": {
      "text/latex": [
       "$\\displaystyle 10$"
      ],
      "text/plain": [
       "10"
      ]
     },
     "execution_count": 9,
     "metadata": {},
     "output_type": "execute_result"
    }
   ],
   "source": [
    "expression.subs({'x': 2, 'y': 4}) # subsitute the value of x and y and solve the expression"
   ]
  },
  {
   "cell_type": "markdown",
   "metadata": {
    "id": "RbkV8Y7LHT3H"
   },
   "source": [
    "Notice something in the above example. When we typed $expr - x$, we did not get $x + 2*y - x$, but rather just $2*y$. The $x$ and the $-x$ automatically canceled one another. \n",
    "\n",
    "\n",
    "This isn’t always the case in SymPy:"
   ]
  },
  {
   "cell_type": "code",
   "execution_count": 10,
   "metadata": {
    "colab": {
     "base_uri": "https://localhost:8080/",
     "height": 39
    },
    "executionInfo": {
     "elapsed": 55,
     "status": "ok",
     "timestamp": 1666247854811,
     "user": {
      "displayName": "Kshitiz Regmi",
      "userId": "14206467826921940229"
     },
     "user_tz": -345
    },
    "id": "uxxzYmNXOvvQ",
    "outputId": "2a3e9588-4aa5-4d55-f15b-b8c7b455f50c"
   },
   "outputs": [
    {
     "data": {
      "text/latex": [
       "$\\displaystyle x + 2 y$"
      ],
      "text/plain": [
       "x + 2*y"
      ]
     },
     "metadata": {},
     "output_type": "display_data"
    }
   ],
   "source": [
    "display(expression)"
   ]
  },
  {
   "cell_type": "code",
   "execution_count": 11,
   "metadata": {
    "colab": {
     "base_uri": "https://localhost:8080/",
     "height": 39
    },
    "executionInfo": {
     "elapsed": 53,
     "status": "ok",
     "timestamp": 1666247854812,
     "user": {
      "displayName": "Kshitiz Regmi",
      "userId": "14206467826921940229"
     },
     "user_tz": -345
    },
    "id": "7-KGVF3NPFhW",
    "outputId": "eab0f12d-3f78-4f11-aeec-c2c14bcd8bad"
   },
   "outputs": [
    {
     "data": {
      "text/latex": [
       "$\\displaystyle x \\left(x + 2 y\\right)$"
      ],
      "text/plain": [
       "x*(x + 2*y)"
      ]
     },
     "metadata": {},
     "output_type": "display_data"
    }
   ],
   "source": [
    "display(x * expression)"
   ]
  },
  {
   "cell_type": "code",
   "execution_count": 12,
   "metadata": {
    "colab": {
     "base_uri": "https://localhost:8080/",
     "height": 39
    },
    "executionInfo": {
     "elapsed": 52,
     "status": "ok",
     "timestamp": 1666247854813,
     "user": {
      "displayName": "Kshitiz Regmi",
      "userId": "14206467826921940229"
     },
     "user_tz": -345
    },
    "id": "CY2E-TrRPmWi",
    "outputId": "0db1b939-60ce-4c8f-da12-28ae2dce0510"
   },
   "outputs": [
    {
     "data": {
      "text/latex": [
       "$\\displaystyle x \\left(x + 2 y\\right)$"
      ],
      "text/plain": [
       "x*(x + 2*y)"
      ]
     },
     "metadata": {},
     "output_type": "display_data"
    }
   ],
   "source": [
    "display(expression * x)"
   ]
  },
  {
   "cell_type": "markdown",
   "metadata": {
    "id": "qz8SVDpbHeWy"
   },
   "source": [
    "Here, we might have expected $x(x + 2y)$ to transform into $x^2 + 2xy$\n",
    "but instead we see that the expression was left alone. This is a common theme in SymPy. Aside from obvious simplifications like $x - x = 0$ and $\\sqrt{8} = 2\\sqrt{2}$ most simplifications are not performed automatically. This is because we might prefer the factored form $x(x + 2y)$  or we might prefer the expanded form $x^2 + 2xy$ Both forms are useful in different circumstances. In SymPy, there are functions to go from one form to the other."
   ]
  },
  {
   "cell_type": "code",
   "execution_count": 13,
   "metadata": {
    "id": "O3m9iZXHPrsv"
   },
   "outputs": [],
   "source": [
    "expanded = expand(x * expression) # expands factored expression"
   ]
  },
  {
   "cell_type": "code",
   "execution_count": 14,
   "metadata": {
    "colab": {
     "base_uri": "https://localhost:8080/",
     "height": 39
    },
    "executionInfo": {
     "elapsed": 52,
     "status": "ok",
     "timestamp": 1666247854816,
     "user": {
      "displayName": "Kshitiz Regmi",
      "userId": "14206467826921940229"
     },
     "user_tz": -345
    },
    "id": "qgG4l4nYP6J7",
    "outputId": "8bb422e5-3931-40ea-a8e5-2b389b571cf6"
   },
   "outputs": [
    {
     "data": {
      "text/latex": [
       "$\\displaystyle x^{2} + 2 x y$"
      ],
      "text/plain": [
       "x**2 + 2*x*y"
      ]
     },
     "metadata": {},
     "output_type": "display_data"
    }
   ],
   "source": [
    "display(expanded)"
   ]
  },
  {
   "cell_type": "code",
   "execution_count": 15,
   "metadata": {
    "colab": {
     "base_uri": "https://localhost:8080/",
     "height": 39
    },
    "executionInfo": {
     "elapsed": 51,
     "status": "ok",
     "timestamp": 1666247854817,
     "user": {
      "displayName": "Kshitiz Regmi",
      "userId": "14206467826921940229"
     },
     "user_tz": -345
    },
    "id": "pz-CbgROP8Af",
    "outputId": "5097b843-5248-4510-ae62-c9f7fe8596fc"
   },
   "outputs": [
    {
     "data": {
      "text/latex": [
       "$\\displaystyle x \\left(x + 2 y\\right)$"
      ],
      "text/plain": [
       "x*(x + 2*y)"
      ]
     },
     "metadata": {},
     "output_type": "display_data"
    }
   ],
   "source": [
    "display(factor(expanded)) # factors expanded expression"
   ]
  },
  {
   "cell_type": "markdown",
   "metadata": {
    "id": "pI-ZocyBMihQ"
   },
   "source": [
    "<img src = \"https://d1e4pidl3fu268.cloudfront.net/25bdc4be-52ae-4ed3-9971-c1209a2ddd38/14b.crop_935x701_0,0.preview.JPG\">"
   ]
  },
  {
   "cell_type": "code",
   "execution_count": 16,
   "metadata": {
    "executionInfo": {
     "elapsed": 1289,
     "status": "ok",
     "timestamp": 1666333192158,
     "user": {
      "displayName": "Kshitiz Regmi",
      "userId": "14206467826921940229"
     },
     "user_tz": -345
    },
    "id": "oUWUIbRZRMNw"
   },
   "outputs": [],
   "source": [
    "import numpy as np\n",
    "from sympy import *\n",
    "x, y = symbols(\"x y\")"
   ]
  },
  {
   "cell_type": "code",
   "execution_count": 17,
   "metadata": {
    "executionInfo": {
     "elapsed": 7,
     "status": "ok",
     "timestamp": 1666333192159,
     "user": {
      "displayName": "Kshitiz Regmi",
      "userId": "14206467826921940229"
     },
     "user_tz": -345
    },
    "id": "_rbql0xlMnAE"
   },
   "outputs": [],
   "source": [
    "eq1 = Eq(8 *x + y , 42)\n",
    "eq2 = Eq(x**2 - y , 6)\n",
    "coordinates = solve((eq1, eq2))"
   ]
  },
  {
   "cell_type": "code",
   "execution_count": 18,
   "metadata": {
    "colab": {
     "base_uri": "https://localhost:8080/"
    },
    "executionInfo": {
     "elapsed": 6,
     "status": "ok",
     "timestamp": 1666333192159,
     "user": {
      "displayName": "Kshitiz Regmi",
      "userId": "14206467826921940229"
     },
     "user_tz": -345
    },
    "id": "5s1P7BQHMpHk",
    "outputId": "f9b8cba9-fc5e-410b-a93e-437278eb1fea"
   },
   "outputs": [
    {
     "name": "stdout",
     "output_type": "stream",
     "text": [
      "The solution is [{x: -12, y: 138}, {x: 4, y: 10}]\n"
     ]
    }
   ],
   "source": [
    "print(f\"The solution is {coordinates}\")"
   ]
  },
  {
   "cell_type": "markdown",
   "metadata": {
    "id": "TgawS0GnMrrk"
   },
   "source": [
    "# Plot the equation on graph and plot the solutions"
   ]
  },
  {
   "cell_type": "code",
   "execution_count": 19,
   "metadata": {
    "executionInfo": {
     "elapsed": 4,
     "status": "ok",
     "timestamp": 1666333221225,
     "user": {
      "displayName": "Kshitiz Regmi",
      "userId": "14206467826921940229"
     },
     "user_tz": -345
    },
    "id": "iGmMN2jqMqnT"
   },
   "outputs": [],
   "source": [
    "x_val = np.arange(-15, 12)"
   ]
  },
  {
   "cell_type": "code",
   "execution_count": 20,
   "metadata": {
    "executionInfo": {
     "elapsed": 3,
     "status": "ok",
     "timestamp": 1666333228083,
     "user": {
      "displayName": "Kshitiz Regmi",
      "userId": "14206467826921940229"
     },
     "user_tz": -345
    },
    "id": "FhZeJqBwMxn7"
   },
   "outputs": [],
   "source": [
    "y_val_eq1 =  [solve(eq1.subs({'x':point}))[0] for point in x_val]"
   ]
  },
  {
   "cell_type": "code",
   "execution_count": 21,
   "metadata": {
    "executionInfo": {
     "elapsed": 3,
     "status": "ok",
     "timestamp": 1666333235215,
     "user": {
      "displayName": "Kshitiz Regmi",
      "userId": "14206467826921940229"
     },
     "user_tz": -345
    },
    "id": "Cd9ZLTAWMziX"
   },
   "outputs": [],
   "source": [
    "y_val_eq2 =  [solve(eq2.subs({'x':point}))[0] for point in x_val]"
   ]
  },
  {
   "cell_type": "code",
   "execution_count": 22,
   "metadata": {
    "colab": {
     "base_uri": "https://localhost:8080/",
     "height": 385
    },
    "executionInfo": {
     "elapsed": 1637,
     "status": "ok",
     "timestamp": 1666333296849,
     "user": {
      "displayName": "Kshitiz Regmi",
      "userId": "14206467826921940229"
     },
     "user_tz": -345
    },
    "id": "7VNSWr87M3Wp",
    "outputId": "bb43b9cf-ed43-4a3f-cff7-cd0c1a4f9de4"
   },
   "outputs": [
    {
     "data": {
      "text/plain": [
       "<matplotlib.legend.Legend at 0x7f75994f57f0>"
      ]
     },
     "execution_count": 22,
     "metadata": {},
     "output_type": "execute_result"
    },
    {
     "data": {
      "image/png": "[encoded data removed]",
      "text/plain": [
       "<Figure size 576x432 with 1 Axes>"
      ]
     },
     "metadata": {
      "needs_background": "light"
     },
     "output_type": "display_data"
    }
   ],
   "source": [
    "plt.figure(figsize = (8, 6))\n",
    "plt.plot(x_val, y_val_eq1, label = '$8x + y = 42$', color = 'purple')\n",
    "plt.plot(x_val, y_val_eq2, label = '$x^2 - y = 6$', color = 'b')\n",
    "x_cord = int(coordinates[0].get(x))\n",
    "y_cord = int(coordinates[0].get(y))\n",
    "plt.plot(x_cord, y_cord, 'o', ms = 10)\n",
    "plt.text( x_cord + 0.2, y_cord + 0.9, f\" $({x_cord} , {y_cord})$\")\n",
    "x_cord = int(coordinates[1].get(x))\n",
    "y_cord = int(coordinates[1].get(y))\n",
    "plt.text( x_cord + 0.3, y_cord + 0.5, f\" $({x_cord},{y_cord})$\")\n",
    "plt.plot(x_cord, y_cord, 'o', ms = 10)\n",
    "plt.savefig('sol.png', dpi = 300)\n",
    "plt.legend(loc = 'upper right')"
   ]
  },
  {
   "cell_type": "markdown",
   "metadata": {
    "id": "YwzYrcSPNcti"
   },
   "source": [
    "<img src=\"https://www.onlinemathlearning.com/image-files/simultaneous-linear-quadratic.png\">"
   ]
  },
  {
   "cell_type": "code",
   "execution_count": null,
   "metadata": {
    "id": "0uhyvo58M7GE"
   },
   "outputs": [],
   "source": []
  }
 ],
 "metadata": {
  "colab": {
   "authorship_tag": "ABX9TyNW6NfxgfcgDLeMSUnWCOwq",
   "collapsed_sections": [],
   "provenance": []
  },
  "kernelspec": {
   "display_name": "Python 3 (ipykernel)",
   "language": "python",
   "name": "python3"
  },
  "language_info": {
   "codemirror_mode": {
    "name": "ipython",
    "version": 3
   },
   "file_extension": ".py",
   "mimetype": "text/x-python",
   "name": "python",
   "nbconvert_exporter": "python",
   "pygments_lexer": "ipython3",
   "version": "3.8.10"
  }
 },
 "nbformat": 4,
 "nbformat_minor": 1
}
