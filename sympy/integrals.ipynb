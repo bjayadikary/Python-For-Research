{
 "cells": [
  {
   "cell_type": "markdown",
   "metadata": {
    "id": "16SqXnf5YAcG"
   },
   "source": [
    "# Integrals\n",
    "\n",
    "To compute an integral, use the `integrate()` function. There are two kinds of integrals, definite and indefinite. To compute an indefinite integral, that is, an antiderivative, or primitive, just pass the variable after the expression."
   ]
  },
  {
   "cell_type": "code",
   "execution_count": 1,
   "metadata": {
    "executionInfo": {
     "elapsed": 684,
     "status": "ok",
     "timestamp": 1666319464527,
     "user": {
      "displayName": "Kshitiz Regmi",
      "userId": "14206467826921940229"
     },
     "user_tz": -345
    },
    "id": "r4WiRxGEYKz8"
   },
   "outputs": [],
   "source": [
    "from sympy import *"
   ]
  },
  {
   "cell_type": "code",
   "execution_count": 2,
   "metadata": {
    "executionInfo": {
     "elapsed": 3,
     "status": "ok",
     "timestamp": 1666319474427,
     "user": {
      "displayName": "Kshitiz Regmi",
      "userId": "14206467826921940229"
     },
     "user_tz": -345
    },
    "id": "Z60TEUAYYS-4"
   },
   "outputs": [],
   "source": [
    "x = symbols('x')"
   ]
  },
  {
   "cell_type": "markdown",
   "metadata": {
    "id": "i8CC6l6aYhXv"
   },
   "source": [
    "$$f(x) = cos(x)$$\n",
    "\n",
    "$$\\int f(x) dx = sin(x)$$\n",
    "\n",
    "or \n",
    "\n",
    "$$\\int cos(x) dx = sin(x)$$"
   ]
  },
  {
   "cell_type": "code",
   "execution_count": 3,
   "metadata": {
    "executionInfo": {
     "elapsed": 6,
     "status": "ok",
     "timestamp": 1666319486880,
     "user": {
      "displayName": "Kshitiz Regmi",
      "userId": "14206467826921940229"
     },
     "user_tz": -345
    },
    "id": "dQfuC7LWYVmT"
   },
   "outputs": [],
   "source": [
    "fx = cos(x)"
   ]
  },
  {
   "cell_type": "code",
   "execution_count": 4,
   "metadata": {
    "colab": {
     "base_uri": "https://localhost:8080/",
     "height": 39
    },
    "executionInfo": {
     "elapsed": 408,
     "status": "ok",
     "timestamp": 1666319499632,
     "user": {
      "displayName": "Kshitiz Regmi",
      "userId": "14206467826921940229"
     },
     "user_tz": -345
    },
    "id": "jL4k5h-tYYvA",
    "outputId": "1a30819b-8657-4d35-b01b-2f7b6e54081c"
   },
   "outputs": [
    {
     "data": {
      "text/latex": [
       "$\\displaystyle \\cos{\\left(x \\right)}$"
      ],
      "text/plain": [
       "cos(x)"
      ]
     },
     "metadata": {},
     "output_type": "display_data"
    }
   ],
   "source": [
    "display(fx)"
   ]
  },
  {
   "cell_type": "code",
   "execution_count": 5,
   "metadata": {
    "colab": {
     "base_uri": "https://localhost:8080/",
     "height": 39
    },
    "executionInfo": {
     "elapsed": 10,
     "status": "ok",
     "timestamp": 1666319513050,
     "user": {
      "displayName": "Kshitiz Regmi",
      "userId": "14206467826921940229"
     },
     "user_tz": -345
    },
    "id": "pLzLiZMHYZQy",
    "outputId": "56603e5f-dcdd-4bbf-a8db-b13fa8927f41"
   },
   "outputs": [
    {
     "data": {
      "text/latex": [
       "$\\displaystyle \\sin{\\left(x \\right)}$"
      ],
      "text/plain": [
       "sin(x)"
      ]
     },
     "execution_count": 5,
     "metadata": {},
     "output_type": "execute_result"
    }
   ],
   "source": [
    "integrate(fx, x)"
   ]
  },
  {
   "cell_type": "markdown",
   "metadata": {
    "id": "-nVBuaaRZNr6"
   },
   "source": [
    "# Alternative way"
   ]
  },
  {
   "cell_type": "code",
   "execution_count": 6,
   "metadata": {
    "executionInfo": {
     "elapsed": 4,
     "status": "ok",
     "timestamp": 1666319739870,
     "user": {
      "displayName": "Kshitiz Regmi",
      "userId": "14206467826921940229"
     },
     "user_tz": -345
    },
    "id": "SYALobRXZI5s"
   },
   "outputs": [],
   "source": [
    "expression = Integral(fx, x)"
   ]
  },
  {
   "cell_type": "code",
   "execution_count": 7,
   "metadata": {
    "colab": {
     "base_uri": "https://localhost:8080/",
     "height": 55
    },
    "executionInfo": {
     "elapsed": 12,
     "status": "ok",
     "timestamp": 1666319742935,
     "user": {
      "displayName": "Kshitiz Regmi",
      "userId": "14206467826921940229"
     },
     "user_tz": -345
    },
    "id": "s5S-w50KZWTY",
    "outputId": "97b4236d-e15c-46bb-98aa-6b81ae010165"
   },
   "outputs": [
    {
     "data": {
      "text/latex": [
       "$\\displaystyle \\int \\cos{\\left(x \\right)}\\, dx$"
      ],
      "text/plain": [
       "Integral(cos(x), x)"
      ]
     },
     "execution_count": 7,
     "metadata": {},
     "output_type": "execute_result"
    }
   ],
   "source": [
    "expression"
   ]
  },
  {
   "cell_type": "code",
   "execution_count": 8,
   "metadata": {
    "colab": {
     "base_uri": "https://localhost:8080/",
     "height": 39
    },
    "executionInfo": {
     "elapsed": 10,
     "status": "ok",
     "timestamp": 1666319771625,
     "user": {
      "displayName": "Kshitiz Regmi",
      "userId": "14206467826921940229"
     },
     "user_tz": -345
    },
    "id": "438PTm4TZXEF",
    "outputId": "419a2fbb-3932-45dd-f3a9-894f7af8e0f6"
   },
   "outputs": [
    {
     "data": {
      "text/latex": [
       "$\\displaystyle \\sin{\\left(x \\right)}$"
      ],
      "text/plain": [
       "sin(x)"
      ]
     },
     "execution_count": 8,
     "metadata": {},
     "output_type": "execute_result"
    }
   ],
   "source": [
    "expression.doit()"
   ]
  },
  {
   "cell_type": "code",
   "execution_count": 9,
   "metadata": {
    "id": "dJzpyaRgb2nK"
   },
   "outputs": [],
   "source": [
    "# log "
   ]
  },
  {
   "cell_type": "code",
   "execution_count": 10,
   "metadata": {
    "executionInfo": {
     "elapsed": 407,
     "status": "ok",
     "timestamp": 1666320445269,
     "user": {
      "displayName": "Kshitiz Regmi",
      "userId": "14206467826921940229"
     },
     "user_tz": -345
    },
    "id": "7xj638OSb4Tf"
   },
   "outputs": [],
   "source": [
    "expression = Integral(log(x**2), x)"
   ]
  },
  {
   "cell_type": "code",
   "execution_count": 11,
   "metadata": {
    "colab": {
     "base_uri": "https://localhost:8080/",
     "height": 55
    },
    "executionInfo": {
     "elapsed": 10,
     "status": "ok",
     "timestamp": 1666320448802,
     "user": {
      "displayName": "Kshitiz Regmi",
      "userId": "14206467826921940229"
     },
     "user_tz": -345
    },
    "id": "7cpqcZeeb4WD",
    "outputId": "50d7e058-282b-4004-94c9-438b141e4d29"
   },
   "outputs": [
    {
     "data": {
      "text/latex": [
       "$\\displaystyle \\int \\log{\\left(x^{2} \\right)}\\, dx$"
      ],
      "text/plain": [
       "Integral(log(x**2), x)"
      ]
     },
     "execution_count": 11,
     "metadata": {},
     "output_type": "execute_result"
    }
   ],
   "source": [
    "expression"
   ]
  },
  {
   "cell_type": "code",
   "execution_count": 12,
   "metadata": {
    "colab": {
     "base_uri": "https://localhost:8080/",
     "height": 39
    },
    "executionInfo": {
     "elapsed": 444,
     "status": "ok",
     "timestamp": 1666320461275,
     "user": {
      "displayName": "Kshitiz Regmi",
      "userId": "14206467826921940229"
     },
     "user_tz": -345
    },
    "id": "ul5XC7-1b4Ym",
    "outputId": "98320d4a-3961-457b-9a01-5cfa4974435c"
   },
   "outputs": [
    {
     "data": {
      "text/latex": [
       "$\\displaystyle x \\log{\\left(x^{2} \\right)} - 2 x$"
      ],
      "text/plain": [
       "x*log(x**2) - 2*x"
      ]
     },
     "execution_count": 12,
     "metadata": {},
     "output_type": "execute_result"
    }
   ],
   "source": [
    "expression.doit()"
   ]
  },
  {
   "cell_type": "code",
   "execution_count": 13,
   "metadata": {
    "executionInfo": {
     "elapsed": 411,
     "status": "ok",
     "timestamp": 1666320491231,
     "user": {
      "displayName": "Kshitiz Regmi",
      "userId": "14206467826921940229"
     },
     "user_tz": -345
    },
    "id": "CDd7YlnGb4bZ"
   },
   "outputs": [],
   "source": [
    "expression = Integral(log(x)**2, x)"
   ]
  },
  {
   "cell_type": "code",
   "execution_count": 14,
   "metadata": {
    "colab": {
     "base_uri": "https://localhost:8080/",
     "height": 55
    },
    "executionInfo": {
     "elapsed": 15,
     "status": "ok",
     "timestamp": 1666320494549,
     "user": {
      "displayName": "Kshitiz Regmi",
      "userId": "14206467826921940229"
     },
     "user_tz": -345
    },
    "id": "W6pwh8Wzb4eM",
    "outputId": "5bca19ad-2460-4773-9349-2e14ccb20ca6"
   },
   "outputs": [
    {
     "data": {
      "text/latex": [
       "$\\displaystyle \\int \\log{\\left(x \\right)}^{2}\\, dx$"
      ],
      "text/plain": [
       "Integral(log(x)**2, x)"
      ]
     },
     "execution_count": 14,
     "metadata": {},
     "output_type": "execute_result"
    }
   ],
   "source": [
    "expression"
   ]
  },
  {
   "cell_type": "code",
   "execution_count": 15,
   "metadata": {
    "colab": {
     "base_uri": "https://localhost:8080/",
     "height": 39
    },
    "executionInfo": {
     "elapsed": 13,
     "status": "ok",
     "timestamp": 1666320503664,
     "user": {
      "displayName": "Kshitiz Regmi",
      "userId": "14206467826921940229"
     },
     "user_tz": -345
    },
    "id": "hvoYBpGgcPNj",
    "outputId": "d80ca670-4cae-4f6d-8664-83d6674af905"
   },
   "outputs": [
    {
     "data": {
      "text/latex": [
       "$\\displaystyle x \\log{\\left(x \\right)}^{2} - 2 x \\log{\\left(x \\right)} + 2 x$"
      ],
      "text/plain": [
       "x*log(x)**2 - 2*x*log(x) + 2*x"
      ]
     },
     "execution_count": 15,
     "metadata": {},
     "output_type": "execute_result"
    }
   ],
   "source": [
    "expression.doit()"
   ]
  },
  {
   "cell_type": "code",
   "execution_count": null,
   "metadata": {
    "id": "6QgpLkbPcPZY"
   },
   "outputs": [],
   "source": []
  },
  {
   "cell_type": "markdown",
   "metadata": {
    "id": "UN5wXhS3ZnyR"
   },
   "source": [
    "# Other exmaple\n",
    "\n",
    "$$\\int_0^\\infty e^{-x}\\,dx$$\n",
    "\n",
    "Solution:\n",
    "\n",
    "$$\\int_0^\\infty e^{-x}\\,dx = 1$$"
   ]
  },
  {
   "cell_type": "code",
   "execution_count": 16,
   "metadata": {
    "executionInfo": {
     "elapsed": 4,
     "status": "ok",
     "timestamp": 1666319863159,
     "user": {
      "displayName": "Kshitiz Regmi",
      "userId": "14206467826921940229"
     },
     "user_tz": -345
    },
    "id": "7zpeAc8bZeNy"
   },
   "outputs": [],
   "source": [
    "x = symbols('x')"
   ]
  },
  {
   "cell_type": "code",
   "execution_count": 17,
   "metadata": {
    "executionInfo": {
     "elapsed": 399,
     "status": "ok",
     "timestamp": 1666319877619,
     "user": {
      "displayName": "Kshitiz Regmi",
      "userId": "14206467826921940229"
     },
     "user_tz": -345
    },
    "id": "js8z3RJaZy4E"
   },
   "outputs": [],
   "source": [
    "fx  = exp(-x)"
   ]
  },
  {
   "cell_type": "code",
   "execution_count": 18,
   "metadata": {
    "colab": {
     "base_uri": "https://localhost:8080/",
     "height": 37
    },
    "executionInfo": {
     "elapsed": 10,
     "status": "ok",
     "timestamp": 1666319916206,
     "user": {
      "displayName": "Kshitiz Regmi",
      "userId": "14206467826921940229"
     },
     "user_tz": -345
    },
    "id": "W8nhkvL2Z4AF",
    "outputId": "6e64572b-aeb8-4d51-e900-e89eab52e351"
   },
   "outputs": [
    {
     "data": {
      "text/latex": [
       "$\\displaystyle 1$"
      ],
      "text/plain": [
       "1"
      ]
     },
     "execution_count": 18,
     "metadata": {},
     "output_type": "execute_result"
    }
   ],
   "source": [
    "integrate(fx, (x, 0, oo))"
   ]
  },
  {
   "cell_type": "code",
   "execution_count": 19,
   "metadata": {
    "executionInfo": {
     "elapsed": 5,
     "status": "ok",
     "timestamp": 1666320036151,
     "user": {
      "displayName": "Kshitiz Regmi",
      "userId": "14206467826921940229"
     },
     "user_tz": -345
    },
    "id": "hTGCS1yCaBcB"
   },
   "outputs": [],
   "source": [
    "# alternative way\n",
    "expression = Integral(fx, (x, 0, oo))"
   ]
  },
  {
   "cell_type": "code",
   "execution_count": 20,
   "metadata": {
    "colab": {
     "base_uri": "https://localhost:8080/",
     "height": 77
    },
    "executionInfo": {
     "elapsed": 15,
     "status": "ok",
     "timestamp": 1666320038759,
     "user": {
      "displayName": "Kshitiz Regmi",
      "userId": "14206467826921940229"
     },
     "user_tz": -345
    },
    "id": "MWsf5wWlaXFi",
    "outputId": "6c0e7cde-3d0a-4519-ab95-b546210b2db5"
   },
   "outputs": [
    {
     "data": {
      "text/latex": [
       "$\\displaystyle \\int\\limits_{0}^{\\infty} e^{- x}\\, dx$"
      ],
      "text/plain": [
       "Integral(exp(-x), (x, 0, oo))"
      ]
     },
     "execution_count": 20,
     "metadata": {},
     "output_type": "execute_result"
    }
   ],
   "source": [
    "expression"
   ]
  },
  {
   "cell_type": "code",
   "execution_count": 21,
   "metadata": {
    "colab": {
     "base_uri": "https://localhost:8080/",
     "height": 37
    },
    "executionInfo": {
     "elapsed": 10,
     "status": "ok",
     "timestamp": 1666320049881,
     "user": {
      "displayName": "Kshitiz Regmi",
      "userId": "14206467826921940229"
     },
     "user_tz": -345
    },
    "id": "5FOj6JWYaYEa",
    "outputId": "6cfa5cff-ef10-4943-9dbc-b6b3557a6624"
   },
   "outputs": [
    {
     "data": {
      "text/latex": [
       "$\\displaystyle 1$"
      ],
      "text/plain": [
       "1"
      ]
     },
     "execution_count": 21,
     "metadata": {},
     "output_type": "execute_result"
    }
   ],
   "source": [
    "expression.doit()"
   ]
  },
  {
   "cell_type": "markdown",
   "metadata": {
    "id": "hhKcmKyNas-r"
   },
   "source": [
    "# Multiple Integration/ Double Integration\n",
    "\n",
    "As with indefinite integrals, you can pass multiple limit tuples to perform a multiple integral. For example, to compute\n",
    "\n",
    "$$\\int_{-\\infty}^{\\infty}\\int_{-\\infty}^{\\infty} e^{- x^{2} - y^{2}}\\, dx\\, dy,$$"
   ]
  },
  {
   "cell_type": "code",
   "execution_count": 22,
   "metadata": {
    "executionInfo": {
     "elapsed": 404,
     "status": "ok",
     "timestamp": 1666320176568,
     "user": {
      "displayName": "Kshitiz Regmi",
      "userId": "14206467826921940229"
     },
     "user_tz": -345
    },
    "id": "pzxE9gTNaiOU"
   },
   "outputs": [],
   "source": [
    "x, y = symbols('x y')"
   ]
  },
  {
   "cell_type": "code",
   "execution_count": 23,
   "metadata": {
    "executionInfo": {
     "elapsed": 10,
     "status": "ok",
     "timestamp": 1666320208540,
     "user": {
      "displayName": "Kshitiz Regmi",
      "userId": "14206467826921940229"
     },
     "user_tz": -345
    },
    "id": "fXamTpa3ayOn"
   },
   "outputs": [],
   "source": [
    "fx = exp(-x**2 - y **2)"
   ]
  },
  {
   "cell_type": "code",
   "execution_count": 24,
   "metadata": {
    "colab": {
     "base_uri": "https://localhost:8080/",
     "height": 40
    },
    "executionInfo": {
     "elapsed": 15,
     "status": "ok",
     "timestamp": 1666320209630,
     "user": {
      "displayName": "Kshitiz Regmi",
      "userId": "14206467826921940229"
     },
     "user_tz": -345
    },
    "id": "ChDLxYX0bIu0",
    "outputId": "e3cf9079-ff86-4a6c-e16c-b6f7ce482f59"
   },
   "outputs": [
    {
     "data": {
      "text/latex": [
       "$\\displaystyle e^{- x^{2} - y^{2}}$"
      ],
      "text/plain": [
       "exp(-x**2 - y**2)"
      ]
     },
     "execution_count": 24,
     "metadata": {},
     "output_type": "execute_result"
    }
   ],
   "source": [
    "fx"
   ]
  },
  {
   "cell_type": "code",
   "execution_count": 25,
   "metadata": {
    "colab": {
     "base_uri": "https://localhost:8080/",
     "height": 39
    },
    "executionInfo": {
     "elapsed": 912,
     "status": "ok",
     "timestamp": 1666320265773,
     "user": {
      "displayName": "Kshitiz Regmi",
      "userId": "14206467826921940229"
     },
     "user_tz": -345
    },
    "id": "_eyNUylDbJDK",
    "outputId": "6b967bf2-47f4-4ac8-ede2-91224edcfa8a"
   },
   "outputs": [
    {
     "data": {
      "text/latex": [
       "$\\displaystyle \\pi$"
      ],
      "text/plain": [
       "pi"
      ]
     },
     "execution_count": 25,
     "metadata": {},
     "output_type": "execute_result"
    }
   ],
   "source": [
    "integrate(fx, (x, -oo, oo), (y, -oo, oo))"
   ]
  },
  {
   "cell_type": "code",
   "execution_count": 26,
   "metadata": {
    "executionInfo": {
     "elapsed": 830,
     "status": "ok",
     "timestamp": 1666320311573,
     "user": {
      "displayName": "Kshitiz Regmi",
      "userId": "14206467826921940229"
     },
     "user_tz": -345
    },
    "id": "hDHL7ppQbWt0"
   },
   "outputs": [],
   "source": [
    "expression = Integral(fx,  (x, -oo, oo), (y, -oo, oo))"
   ]
  },
  {
   "cell_type": "code",
   "execution_count": 27,
   "metadata": {
    "colab": {
     "base_uri": "https://localhost:8080/",
     "height": 78
    },
    "executionInfo": {
     "elapsed": 10,
     "status": "ok",
     "timestamp": 1666320314050,
     "user": {
      "displayName": "Kshitiz Regmi",
      "userId": "14206467826921940229"
     },
     "user_tz": -345
    },
    "id": "sk5PvX_Nbh15",
    "outputId": "0af6fb9d-b0a8-4bed-f564-a6ea44461307"
   },
   "outputs": [
    {
     "data": {
      "text/latex": [
       "$\\displaystyle \\int\\limits_{-\\infty}^{\\infty}\\int\\limits_{-\\infty}^{\\infty} e^{- x^{2} - y^{2}}\\, dx\\, dy$"
      ],
      "text/plain": [
       "Integral(exp(-x**2 - y**2), (x, -oo, oo), (y, -oo, oo))"
      ]
     },
     "execution_count": 27,
     "metadata": {},
     "output_type": "execute_result"
    }
   ],
   "source": [
    "expression"
   ]
  },
  {
   "cell_type": "code",
   "execution_count": 28,
   "metadata": {
    "colab": {
     "base_uri": "https://localhost:8080/",
     "height": 39
    },
    "executionInfo": {
     "elapsed": 9,
     "status": "ok",
     "timestamp": 1666320342600,
     "user": {
      "displayName": "Kshitiz Regmi",
      "userId": "14206467826921940229"
     },
     "user_tz": -345
    },
    "id": "B4kmLJ7gbidq",
    "outputId": "e3ac2f88-d376-4d97-9439-2bf2b2d4b547"
   },
   "outputs": [
    {
     "data": {
      "text/latex": [
       "$\\displaystyle \\pi$"
      ],
      "text/plain": [
       "pi"
      ]
     },
     "execution_count": 28,
     "metadata": {},
     "output_type": "execute_result"
    }
   ],
   "source": [
    "expression.doit()"
   ]
  },
  {
   "cell_type": "markdown",
   "metadata": {
    "id": "ADKaSap9dKti"
   },
   "source": [
    "<img src=\"https://study.com/cimages/multimages/16/76e64bcb-40bb-40f1-a3d0-565ceea9ab8c_unnamed.png\">"
   ]
  },
  {
   "cell_type": "code",
   "execution_count": 29,
   "metadata": {
    "executionInfo": {
     "elapsed": 14,
     "status": "ok",
     "timestamp": 1666320990249,
     "user": {
      "displayName": "Kshitiz Regmi",
      "userId": "14206467826921940229"
     },
     "user_tz": -345
    },
    "id": "1hf7U1hvd2qN"
   },
   "outputs": [],
   "source": [
    "fx = 9 * x**3 * y **2"
   ]
  },
  {
   "cell_type": "code",
   "execution_count": 30,
   "metadata": {
    "colab": {
     "base_uri": "https://localhost:8080/",
     "height": 39
    },
    "executionInfo": {
     "elapsed": 11,
     "status": "ok",
     "timestamp": 1666320991772,
     "user": {
      "displayName": "Kshitiz Regmi",
      "userId": "14206467826921940229"
     },
     "user_tz": -345
    },
    "id": "KQ8q-oZyd394",
    "outputId": "6a159977-c933-4751-b44f-0861867f79ac"
   },
   "outputs": [
    {
     "data": {
      "text/latex": [
       "$\\displaystyle 9 x^{3} y^{2}$"
      ],
      "text/plain": [
       "9*x**3*y**2"
      ]
     },
     "execution_count": 30,
     "metadata": {},
     "output_type": "execute_result"
    }
   ],
   "source": [
    "fx"
   ]
  },
  {
   "cell_type": "code",
   "execution_count": 31,
   "metadata": {
    "colab": {
     "base_uri": "https://localhost:8080/",
     "height": 37
    },
    "executionInfo": {
     "elapsed": 12,
     "status": "ok",
     "timestamp": 1666321028157,
     "user": {
      "displayName": "Kshitiz Regmi",
      "userId": "14206467826921940229"
     },
     "user_tz": -345
    },
    "id": "XS-OecnTd4Aj",
    "outputId": "d4bf446e-4064-4c5b-8842-954136e6fa97"
   },
   "outputs": [
    {
     "data": {
      "text/latex": [
       "$\\displaystyle 3360$"
      ],
      "text/plain": [
       "3360"
      ]
     },
     "execution_count": 31,
     "metadata": {},
     "output_type": "execute_result"
    }
   ],
   "source": [
    "integrate(fx, (y, 2,4), (x, 1,3))"
   ]
  },
  {
   "cell_type": "code",
   "execution_count": 32,
   "metadata": {
    "executionInfo": {
     "elapsed": 4,
     "status": "ok",
     "timestamp": 1666321069181,
     "user": {
      "displayName": "Kshitiz Regmi",
      "userId": "14206467826921940229"
     },
     "user_tz": -345
    },
    "id": "-oJfNLpHeK60"
   },
   "outputs": [],
   "source": [
    "ex = Integral(fx, (y, 2,4), (x, 1,3))"
   ]
  },
  {
   "cell_type": "code",
   "execution_count": 33,
   "metadata": {
    "colab": {
     "base_uri": "https://localhost:8080/",
     "height": 37
    },
    "executionInfo": {
     "elapsed": 12,
     "status": "ok",
     "timestamp": 1666321072932,
     "user": {
      "displayName": "Kshitiz Regmi",
      "userId": "14206467826921940229"
     },
     "user_tz": -345
    },
    "id": "-T2MpstveK9l",
    "outputId": "48ef628b-2754-41ae-bdc6-2526ae75920f"
   },
   "outputs": [
    {
     "data": {
      "text/latex": [
       "$\\displaystyle 3360$"
      ],
      "text/plain": [
       "3360"
      ]
     },
     "execution_count": 33,
     "metadata": {},
     "output_type": "execute_result"
    }
   ],
   "source": [
    "ex.doit()"
   ]
  },
  {
   "cell_type": "code",
   "execution_count": 34,
   "metadata": {
    "colab": {
     "base_uri": "https://localhost:8080/",
     "height": 77
    },
    "executionInfo": {
     "elapsed": 13,
     "status": "ok",
     "timestamp": 1666320860971,
     "user": {
      "displayName": "Kshitiz Regmi",
      "userId": "14206467826921940229"
     },
     "user_tz": -345
    },
    "id": "BJM4p0NCbpeD",
    "outputId": "bcc1a9eb-b307-4a38-9f31-9559e10faf7c"
   },
   "outputs": [
    {
     "data": {
      "text/latex": [
       "$\\displaystyle \\int\\limits_{0}^{\\pi} \\sin{\\left(x \\right)}\\, dx$"
      ],
      "text/plain": [
       "Integral(sin(x), (x, 0, pi))"
      ]
     },
     "execution_count": 34,
     "metadata": {},
     "output_type": "execute_result"
    }
   ],
   "source": [
    "testexp = sin(x)\n",
    "\n",
    "Integral(testexp, (x, 0, pi))"
   ]
  },
  {
   "cell_type": "code",
   "execution_count": 35,
   "metadata": {
    "colab": {
     "base_uri": "https://localhost:8080/",
     "height": 37
    },
    "executionInfo": {
     "elapsed": 9,
     "status": "ok",
     "timestamp": 1666320902459,
     "user": {
      "displayName": "Kshitiz Regmi",
      "userId": "14206467826921940229"
     },
     "user_tz": -345
    },
    "id": "75fM76eTdmmj",
    "outputId": "f55822cf-5df8-472d-9432-9558f1238240"
   },
   "outputs": [
    {
     "data": {
      "text/latex": [
       "$\\displaystyle 2$"
      ],
      "text/plain": [
       "2"
      ]
     },
     "execution_count": 35,
     "metadata": {},
     "output_type": "execute_result"
    }
   ],
   "source": [
    "Integral(testexp, (x, 0, pi)).doit()"
   ]
  },
  {
   "cell_type": "markdown",
   "metadata": {
    "id": "D7_zp4i2egMa"
   },
   "source": [
    "# Other exmaple\n",
    "\n",
    "<img src=\"https://study.com/cimages/multimages/16/double_int_ex3.png\">"
   ]
  },
  {
   "cell_type": "code",
   "execution_count": 36,
   "metadata": {
    "executionInfo": {
     "elapsed": 4,
     "status": "ok",
     "timestamp": 1666321163422,
     "user": {
      "displayName": "Kshitiz Regmi",
      "userId": "14206467826921940229"
     },
     "user_tz": -345
    },
    "id": "5S8tgMk7dyPK"
   },
   "outputs": [],
   "source": [
    "x,y = symbols('x y')\n",
    "fx = x * cos(x*y)"
   ]
  },
  {
   "cell_type": "code",
   "execution_count": 37,
   "metadata": {
    "colab": {
     "base_uri": "https://localhost:8080/",
     "height": 39
    },
    "executionInfo": {
     "elapsed": 10,
     "status": "ok",
     "timestamp": 1666321168886,
     "user": {
      "displayName": "Kshitiz Regmi",
      "userId": "14206467826921940229"
     },
     "user_tz": -345
    },
    "id": "oIb1bmYNeyFa",
    "outputId": "b016cef8-ef9f-4379-da08-79bc5ddaa6ca"
   },
   "outputs": [
    {
     "data": {
      "text/latex": [
       "$\\displaystyle x \\cos{\\left(x y \\right)}$"
      ],
      "text/plain": [
       "x*cos(x*y)"
      ]
     },
     "execution_count": 37,
     "metadata": {},
     "output_type": "execute_result"
    }
   ],
   "source": [
    "fx"
   ]
  },
  {
   "cell_type": "code",
   "execution_count": 38,
   "metadata": {
    "colab": {
     "base_uri": "https://localhost:8080/",
     "height": 66
    },
    "executionInfo": {
     "elapsed": 12,
     "status": "ok",
     "timestamp": 1666321205606,
     "user": {
      "displayName": "Kshitiz Regmi",
      "userId": "14206467826921940229"
     },
     "user_tz": -345
    },
    "id": "0Of0WV84ey8f",
    "outputId": "b267a7db-b1f2-4f93-c561-369adf7b6a9e"
   },
   "outputs": [
    {
     "data": {
      "text/latex": [
       "$\\displaystyle - \\frac{2 \\cos{\\left(\\frac{\\pi^{2}}{4} \\right)}}{\\pi} + \\frac{2}{\\pi}$"
      ],
      "text/plain": [
       "-2*cos(pi**2/4)/pi + 2/pi"
      ]
     },
     "execution_count": 38,
     "metadata": {},
     "output_type": "execute_result"
    }
   ],
   "source": [
    "integrate(fx, (y, 0, pi/2), (x, 0, pi/2))"
   ]
  },
  {
   "cell_type": "code",
   "execution_count": 39,
   "metadata": {
    "colab": {
     "base_uri": "https://localhost:8080/"
    },
    "executionInfo": {
     "elapsed": 7,
     "status": "ok",
     "timestamp": 1666321230846,
     "user": {
      "displayName": "Kshitiz Regmi",
      "userId": "14206467826921940229"
     },
     "user_tz": -345
    },
    "id": "VOGkPwube8Ox",
    "outputId": "f9176c6c-4c49-440e-e7e3-ae27b880d68c"
   },
   "outputs": [
    {
     "data": {
      "text/plain": [
       "1.13"
      ]
     },
     "execution_count": 39,
     "metadata": {},
     "output_type": "execute_result"
    }
   ],
   "source": [
    "round(float(integrate(fx, (y, 0, pi/2), (x, 0, pi/2))), 2)"
   ]
  },
  {
   "cell_type": "code",
   "execution_count": null,
   "metadata": {
    "id": "3FibUPhje-vD"
   },
   "outputs": [],
   "source": []
  }
 ],
 "metadata": {
  "colab": {
   "authorship_tag": "ABX9TyPnGsjqH154d+0jjxzKy22r",
   "provenance": []
  },
  "kernelspec": {
   "display_name": "Python 3 (ipykernel)",
   "language": "python",
   "name": "python3"
  },
  "language_info": {
   "codemirror_mode": {
    "name": "ipython",
    "version": 3
   },
   "file_extension": ".py",
   "mimetype": "text/x-python",
   "name": "python",
   "nbconvert_exporter": "python",
   "pygments_lexer": "ipython3",
   "version": "3.8.10"
  }
 },
 "nbformat": 4,
 "nbformat_minor": 1
}
