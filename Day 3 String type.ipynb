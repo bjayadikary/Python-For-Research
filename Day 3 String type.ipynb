{
 "cells": [
  {
   "cell_type": "markdown",
   "metadata": {
    "id": "P41nVqF7v96F"
   },
   "source": [
    "# python strings"
   ]
  },
  {
   "cell_type": "code",
   "execution_count": 1,
   "metadata": {
    "executionInfo": {
     "elapsed": 3,
     "status": "ok",
     "timestamp": 1664245401349,
     "user": {
      "displayName": "Kshitiz Regmi",
      "userId": "14206467826921940229"
     },
     "user_tz": -345
    },
    "id": "3Q_bEGz4v_KM"
   },
   "outputs": [],
   "source": [
    "txt1 = 'hi' \n",
    "\n",
    "txt2 = \"hi\""
   ]
  },
  {
   "cell_type": "code",
   "execution_count": 2,
   "metadata": {
    "colab": {
     "base_uri": "https://localhost:8080/"
    },
    "executionInfo": {
     "elapsed": 3,
     "status": "ok",
     "timestamp": 1664245409240,
     "user": {
      "displayName": "Kshitiz Regmi",
      "userId": "14206467826921940229"
     },
     "user_tz": -345
    },
    "id": "phqlDxx5wML0",
    "outputId": "b957d48e-15e5-4ee9-e4bd-fcd2058989b4"
   },
   "outputs": [
    {
     "data": {
      "text/plain": [
       "True"
      ]
     },
     "execution_count": 2,
     "metadata": {},
     "output_type": "execute_result"
    }
   ],
   "source": [
    "txt1 == txt2"
   ]
  },
  {
   "cell_type": "code",
   "execution_count": 5,
   "metadata": {
    "colab": {
     "base_uri": "https://localhost:8080/",
     "height": 132
    },
    "executionInfo": {
     "elapsed": 6,
     "status": "error",
     "timestamp": 1664245444449,
     "user": {
      "displayName": "Kshitiz Regmi",
      "userId": "14206467826921940229"
     },
     "user_tz": -345
    },
    "id": "a_4vMTbrwZ82",
    "outputId": "fd4b902d-6a49-4093-bdd5-dd639aa6630c"
   },
   "outputs": [
    {
     "ename": "SyntaxError",
     "evalue": "EOL while scanning string literal (3164869510.py, line 1)",
     "output_type": "error",
     "traceback": [
      "\u001b[0;36m  Input \u001b[0;32mIn [5]\u001b[0;36m\u001b[0m\n\u001b[0;31m    txt = \"hi\u001b[0m\n\u001b[0m              ^\u001b[0m\n\u001b[0;31mSyntaxError\u001b[0m\u001b[0;31m:\u001b[0m EOL while scanning string literal\n"
     ]
    }
   ],
   "source": [
    "txt = \"hi \n",
    "my name is \n",
    "kshitiz\""
   ]
  },
  {
   "cell_type": "markdown",
   "metadata": {
    "id": "SsymRVoiwmge"
   },
   "source": [
    "# multiline string : triple quote"
   ]
  },
  {
   "cell_type": "code",
   "execution_count": 6,
   "metadata": {
    "executionInfo": {
     "elapsed": 3,
     "status": "ok",
     "timestamp": 1664245571098,
     "user": {
      "displayName": "Kshitiz Regmi",
      "userId": "14206467826921940229"
     },
     "user_tz": -345
    },
    "id": "5bsJIrhMwobq"
   },
   "outputs": [],
   "source": [
    "txt = \"\"\"hi\n",
    "my name is kshitiz\n",
    "\"\"\""
   ]
  },
  {
   "cell_type": "code",
   "execution_count": 7,
   "metadata": {
    "colab": {
     "base_uri": "https://localhost:8080/"
    },
    "executionInfo": {
     "elapsed": 3,
     "status": "ok",
     "timestamp": 1664245571721,
     "user": {
      "displayName": "Kshitiz Regmi",
      "userId": "14206467826921940229"
     },
     "user_tz": -345
    },
    "id": "Eckn0R3pwzmk",
    "outputId": "646a3086-7a05-4036-ec22-959e8a117fa6"
   },
   "outputs": [
    {
     "name": "stdout",
     "output_type": "stream",
     "text": [
      "hi\n",
      "my name is kshitiz\n",
      "\n"
     ]
    }
   ],
   "source": [
    "print(txt)"
   ]
  },
  {
   "cell_type": "code",
   "execution_count": 8,
   "metadata": {
    "colab": {
     "base_uri": "https://localhost:8080/"
    },
    "executionInfo": {
     "elapsed": 4,
     "status": "ok",
     "timestamp": 1664245572171,
     "user": {
      "displayName": "Kshitiz Regmi",
      "userId": "14206467826921940229"
     },
     "user_tz": -345
    },
    "id": "ED0FqPwkxANP",
    "outputId": "5ec88079-ecb8-4608-a522-cf112e8391c9"
   },
   "outputs": [
    {
     "data": {
      "text/plain": [
       "str"
      ]
     },
     "execution_count": 8,
     "metadata": {},
     "output_type": "execute_result"
    }
   ],
   "source": [
    "type(txt)"
   ]
  },
  {
   "cell_type": "code",
   "execution_count": 9,
   "metadata": {
    "executionInfo": {
     "elapsed": 677,
     "status": "ok",
     "timestamp": 1664245575665,
     "user": {
      "displayName": "Kshitiz Regmi",
      "userId": "14206467826921940229"
     },
     "user_tz": -345
    },
    "id": "rqekSVdDw07v"
   },
   "outputs": [],
   "source": [
    "txt = '''\n",
    "hi my name is \n",
    "kshitiz\n",
    "'''"
   ]
  },
  {
   "cell_type": "code",
   "execution_count": 10,
   "metadata": {
    "colab": {
     "base_uri": "https://localhost:8080/"
    },
    "executionInfo": {
     "elapsed": 3,
     "status": "ok",
     "timestamp": 1664245576061,
     "user": {
      "displayName": "Kshitiz Regmi",
      "userId": "14206467826921940229"
     },
     "user_tz": -345
    },
    "id": "4CCmMhPow8ML",
    "outputId": "f4f306b5-8063-4a5c-9815-b5c192f0dbb9"
   },
   "outputs": [
    {
     "name": "stdout",
     "output_type": "stream",
     "text": [
      "\n",
      "hi my name is \n",
      "kshitiz\n",
      "\n"
     ]
    }
   ],
   "source": [
    "print(txt)"
   ]
  },
  {
   "cell_type": "code",
   "execution_count": 11,
   "metadata": {
    "colab": {
     "base_uri": "https://localhost:8080/"
    },
    "executionInfo": {
     "elapsed": 678,
     "status": "ok",
     "timestamp": 1664245580329,
     "user": {
      "displayName": "Kshitiz Regmi",
      "userId": "14206467826921940229"
     },
     "user_tz": -345
    },
    "id": "VkQb8H1Yw8kT",
    "outputId": "463ded7e-8d81-40dc-f13f-6d418af8ff84"
   },
   "outputs": [
    {
     "data": {
      "text/plain": [
       "str"
      ]
     },
     "execution_count": 11,
     "metadata": {},
     "output_type": "execute_result"
    }
   ],
   "source": [
    "type(txt)"
   ]
  },
  {
   "cell_type": "code",
   "execution_count": 12,
   "metadata": {
    "colab": {
     "base_uri": "https://localhost:8080/",
     "height": 35
    },
    "executionInfo": {
     "elapsed": 6,
     "status": "ok",
     "timestamp": 1664245647371,
     "user": {
      "displayName": "Kshitiz Regmi",
      "userId": "14206467826921940229"
     },
     "user_tz": -345
    },
    "id": "ul1AIytoxDya",
    "outputId": "d3353e54-5034-4375-f5d3-e883d8a6a0da"
   },
   "outputs": [
    {
     "data": {
      "text/plain": [
       "\"He said, 'he is travelling.' \""
      ]
     },
     "execution_count": 12,
     "metadata": {},
     "output_type": "execute_result"
    }
   ],
   "source": [
    "\"He said, 'he is travelling.' \""
   ]
  },
  {
   "cell_type": "markdown",
   "metadata": {
    "id": "H-btVju7xsHN"
   },
   "source": [
    "# Indexing"
   ]
  },
  {
   "cell_type": "code",
   "execution_count": 13,
   "metadata": {
    "executionInfo": {
     "elapsed": 2,
     "status": "ok",
     "timestamp": 1664245866180,
     "user": {
      "displayName": "Kshitiz Regmi",
      "userId": "14206467826921940229"
     },
     "user_tz": -345
    },
    "id": "Z4h803efxRwh"
   },
   "outputs": [],
   "source": [
    "txt = \"Hello world\""
   ]
  },
  {
   "cell_type": "code",
   "execution_count": 14,
   "metadata": {
    "colab": {
     "base_uri": "https://localhost:8080/"
    },
    "executionInfo": {
     "elapsed": 2,
     "status": "ok",
     "timestamp": 1664245866585,
     "user": {
      "displayName": "Kshitiz Regmi",
      "userId": "14206467826921940229"
     },
     "user_tz": -345
    },
    "id": "3j1GCDCQxrO-",
    "outputId": "26928f5d-ff66-4073-8190-642d2dbb333e"
   },
   "outputs": [
    {
     "name": "stdout",
     "output_type": "stream",
     "text": [
      "e\n"
     ]
    }
   ],
   "source": [
    "print(txt[1])"
   ]
  },
  {
   "cell_type": "code",
   "execution_count": 15,
   "metadata": {
    "colab": {
     "base_uri": "https://localhost:8080/",
     "height": 35
    },
    "executionInfo": {
     "elapsed": 5,
     "status": "ok",
     "timestamp": 1664245866971,
     "user": {
      "displayName": "Kshitiz Regmi",
      "userId": "14206467826921940229"
     },
     "user_tz": -345
    },
    "id": "LyAEIi3yx3zu",
    "outputId": "50cc4ad9-d085-4a9d-a3e6-1b5b3fd90f49"
   },
   "outputs": [
    {
     "data": {
      "text/plain": [
       "'H'"
      ]
     },
     "execution_count": 15,
     "metadata": {},
     "output_type": "execute_result"
    }
   ],
   "source": [
    "txt[0]"
   ]
  },
  {
   "cell_type": "code",
   "execution_count": 16,
   "metadata": {
    "colab": {
     "base_uri": "https://localhost:8080/",
     "height": 35
    },
    "executionInfo": {
     "elapsed": 6,
     "status": "ok",
     "timestamp": 1664245889335,
     "user": {
      "displayName": "Kshitiz Regmi",
      "userId": "14206467826921940229"
     },
     "user_tz": -345
    },
    "id": "tvhBpnFmyBvl",
    "outputId": "a9d681bf-5c01-4c0c-8413-a807819b382a"
   },
   "outputs": [
    {
     "data": {
      "text/plain": [
       "'d'"
      ]
     },
     "execution_count": 16,
     "metadata": {},
     "output_type": "execute_result"
    }
   ],
   "source": [
    "txt[10]"
   ]
  },
  {
   "cell_type": "code",
   "execution_count": 17,
   "metadata": {
    "colab": {
     "base_uri": "https://localhost:8080/"
    },
    "executionInfo": {
     "elapsed": 3,
     "status": "ok",
     "timestamp": 1664245906011,
     "user": {
      "displayName": "Kshitiz Regmi",
      "userId": "14206467826921940229"
     },
     "user_tz": -345
    },
    "id": "lszEVlNayPTm",
    "outputId": "4b9e0de9-15ce-4309-fed9-1155edaf26f9"
   },
   "outputs": [
    {
     "data": {
      "text/plain": [
       "11"
      ]
     },
     "execution_count": 17,
     "metadata": {},
     "output_type": "execute_result"
    }
   ],
   "source": [
    "len(txt)"
   ]
  },
  {
   "cell_type": "code",
   "execution_count": 18,
   "metadata": {
    "executionInfo": {
     "elapsed": 4,
     "status": "ok",
     "timestamp": 1664246399762,
     "user": {
      "displayName": "Kshitiz Regmi",
      "userId": "14206467826921940229"
     },
     "user_tz": -345
    },
    "id": "ssWBruM8yTUr"
   },
   "outputs": [],
   "source": [
    "txt = \"Hello world\" "
   ]
  },
  {
   "cell_type": "code",
   "execution_count": 19,
   "metadata": {
    "colab": {
     "base_uri": "https://localhost:8080/"
    },
    "executionInfo": {
     "elapsed": 4,
     "status": "ok",
     "timestamp": 1664246400443,
     "user": {
      "displayName": "Kshitiz Regmi",
      "userId": "14206467826921940229"
     },
     "user_tz": -345
    },
    "id": "j_crGmIKzUsu",
    "outputId": "f3a179ef-2429-4a00-e32b-b9704d223c38"
   },
   "outputs": [
    {
     "data": {
      "text/plain": [
       "11"
      ]
     },
     "execution_count": 19,
     "metadata": {},
     "output_type": "execute_result"
    }
   ],
   "source": [
    "len(txt)"
   ]
  },
  {
   "cell_type": "code",
   "execution_count": 20,
   "metadata": {
    "colab": {
     "base_uri": "https://localhost:8080/",
     "height": 35
    },
    "executionInfo": {
     "elapsed": 394,
     "status": "ok",
     "timestamp": 1664246498210,
     "user": {
      "displayName": "Kshitiz Regmi",
      "userId": "14206467826921940229"
     },
     "user_tz": -345
    },
    "id": "8tpZAFWq0iMN",
    "outputId": "2b91277f-91a9-4bf6-b174-46fe751fe823"
   },
   "outputs": [
    {
     "data": {
      "text/plain": [
       "'d'"
      ]
     },
     "execution_count": 20,
     "metadata": {},
     "output_type": "execute_result"
    }
   ],
   "source": [
    "txt[10]"
   ]
  },
  {
   "cell_type": "markdown",
   "metadata": {},
   "source": [
    "# range() in python"
   ]
  },
  {
   "cell_type": "code",
   "execution_count": 21,
   "metadata": {
    "id": "ky05xYdM0NlF"
   },
   "outputs": [],
   "source": [
    "# range(start, end , step)"
   ]
  },
  {
   "cell_type": "code",
   "execution_count": 22,
   "metadata": {
    "colab": {
     "base_uri": "https://localhost:8080/"
    },
    "executionInfo": {
     "elapsed": 389,
     "status": "ok",
     "timestamp": 1664246681128,
     "user": {
      "displayName": "Kshitiz Regmi",
      "userId": "14206467826921940229"
     },
     "user_tz": -345
    },
    "id": "Qu5TbDr0y_gk",
    "outputId": "a0de2ff5-2f68-4f10-ee95-79b993e08185"
   },
   "outputs": [
    {
     "data": {
      "text/plain": [
       "[5, 6, 7, 8, 9]"
      ]
     },
     "execution_count": 22,
     "metadata": {},
     "output_type": "execute_result"
    }
   ],
   "source": [
    "list(range(5, 10, 1))"
   ]
  },
  {
   "cell_type": "code",
   "execution_count": null,
   "metadata": {
    "id": "3xhc0n8DzIY5"
   },
   "outputs": [],
   "source": []
  },
  {
   "cell_type": "markdown",
   "metadata": {
    "id": "B0dIS5xTze5t"
   },
   "source": [
    "# for loop in python"
   ]
  },
  {
   "cell_type": "code",
   "execution_count": 23,
   "metadata": {
    "colab": {
     "base_uri": "https://localhost:8080/"
    },
    "executionInfo": {
     "elapsed": 379,
     "status": "ok",
     "timestamp": 1664246346712,
     "user": {
      "displayName": "Kshitiz Regmi",
      "userId": "14206467826921940229"
     },
     "user_tz": -345
    },
    "id": "es7AgJdJzgZ7",
    "outputId": "8adaec0b-3fb3-42cd-8aa8-b1b69bb72593"
   },
   "outputs": [
    {
     "name": "stdout",
     "output_type": "stream",
     "text": [
      "The index is = 0 and the letter is H\n",
      "The index is = 1 and the letter is e\n",
      "The index is = 2 and the letter is l\n",
      "The index is = 3 and the letter is l\n",
      "The index is = 4 and the letter is o\n",
      "The index is = 5 and the letter is  \n",
      "The index is = 6 and the letter is w\n",
      "The index is = 7 and the letter is o\n",
      "The index is = 8 and the letter is r\n",
      "The index is = 9 and the letter is l\n",
      "The index is = 10 and the letter is d\n"
     ]
    }
   ],
   "source": [
    "for index in range(0, len(txt), 1):\n",
    "    letter = txt[index]\n",
    "    print(\"The index is = {} and the letter is {}\".format(index, letter))"
   ]
  },
  {
   "cell_type": "code",
   "execution_count": 24,
   "metadata": {
    "colab": {
     "base_uri": "https://localhost:8080/"
    },
    "executionInfo": {
     "elapsed": 3,
     "status": "ok",
     "timestamp": 1664246783520,
     "user": {
      "displayName": "Kshitiz Regmi",
      "userId": "14206467826921940229"
     },
     "user_tz": -345
    },
    "id": "dbfb5karztMc",
    "outputId": "46d95a4f-9626-4a18-a2b6-c707e5870402"
   },
   "outputs": [
    {
     "name": "stdout",
     "output_type": "stream",
     "text": [
      "11\n"
     ]
    }
   ],
   "source": [
    "s = \"HELLO WORLD\"\n",
    "print(len(s))"
   ]
  },
  {
   "cell_type": "code",
   "execution_count": 25,
   "metadata": {
    "colab": {
     "base_uri": "https://localhost:8080/",
     "height": 35
    },
    "executionInfo": {
     "elapsed": 5,
     "status": "ok",
     "timestamp": 1664246831046,
     "user": {
      "displayName": "Kshitiz Regmi",
      "userId": "14206467826921940229"
     },
     "user_tz": -345
    },
    "id": "Zc0Q8FPc1zxp",
    "outputId": "37091887-7d1b-491b-86d8-67bcd7f4814c"
   },
   "outputs": [
    {
     "data": {
      "text/plain": [
       "'D'"
      ]
     },
     "execution_count": 25,
     "metadata": {},
     "output_type": "execute_result"
    }
   ],
   "source": [
    "s[10]"
   ]
  },
  {
   "cell_type": "code",
   "execution_count": 26,
   "metadata": {
    "executionInfo": {
     "elapsed": 426,
     "status": "ok",
     "timestamp": 1664246871504,
     "user": {
      "displayName": "Kshitiz Regmi",
      "userId": "14206467826921940229"
     },
     "user_tz": -345
    },
    "id": "c5UlivSi1pb4"
   },
   "outputs": [],
   "source": [
    "start = len(s) - 1\n",
    "end = -1\n",
    "step = -1"
   ]
  },
  {
   "cell_type": "code",
   "execution_count": 27,
   "metadata": {
    "executionInfo": {
     "elapsed": 3,
     "status": "ok",
     "timestamp": 1664246966430,
     "user": {
      "displayName": "Kshitiz Regmi",
      "userId": "14206467826921940229"
     },
     "user_tz": -345
    },
    "id": "KcTjGAjd1u7c"
   },
   "outputs": [],
   "source": [
    "# list(range(start, end , step))"
   ]
  },
  {
   "cell_type": "code",
   "execution_count": 28,
   "metadata": {
    "colab": {
     "base_uri": "https://localhost:8080/"
    },
    "executionInfo": {
     "elapsed": 4,
     "status": "ok",
     "timestamp": 1664246985839,
     "user": {
      "displayName": "Kshitiz Regmi",
      "userId": "14206467826921940229"
     },
     "user_tz": -345
    },
    "id": "VranlyFK2BSN",
    "outputId": "b6289fef-c602-47f7-aa46-6d245e202ac4"
   },
   "outputs": [
    {
     "name": "stdout",
     "output_type": "stream",
     "text": [
      "D\n",
      "L\n",
      "R\n",
      "O\n",
      "W\n",
      " \n",
      "O\n",
      "L\n",
      "L\n",
      "E\n",
      "H\n"
     ]
    }
   ],
   "source": [
    "for index in range(start,end, step ):\n",
    "    letter = s[index]\n",
    "    print(letter)"
   ]
  },
  {
   "cell_type": "code",
   "execution_count": 29,
   "metadata": {
    "colab": {
     "base_uri": "https://localhost:8080/"
    },
    "executionInfo": {
     "elapsed": 412,
     "status": "ok",
     "timestamp": 1664247379898,
     "user": {
      "displayName": "Kshitiz Regmi",
      "userId": "14206467826921940229"
     },
     "user_tz": -345
    },
    "id": "SL0BCFuO2bC3",
    "outputId": "804aabf2-a7f6-4dc4-be3f-279a10d15cc2"
   },
   "outputs": [
    {
     "name": "stdout",
     "output_type": "stream",
     "text": [
      "The letter a is vowel\n",
      "The letter e is vowel\n",
      "The letter y is consonant\n",
      "The letter i is vowel\n"
     ]
    }
   ],
   "source": [
    "s = \"aeyi\"\n",
    "start = 0\n",
    "end = len(s)\n",
    "step = 1\n",
    "for index in range(start, end, step):\n",
    "    letter = s[index]\n",
    "    if letter == 'a' or letter =='e' or letter == 'i' or letter == 'o' or letter =='u':\n",
    "        print(\"The letter {} is vowel\".format(letter))\n",
    "\n",
    "    else:\n",
    "        print(\"The letter {} is consonant\".format(letter))"
   ]
  },
  {
   "cell_type": "markdown",
   "metadata": {
    "id": "5JFwSb8K23Sv"
   },
   "source": [
    "# CW: WAP to print vowels and consonant in given word\n"
   ]
  },
  {
   "cell_type": "code",
   "execution_count": 30,
   "metadata": {
    "colab": {
     "base_uri": "https://localhost:8080/"
    },
    "executionInfo": {
     "elapsed": 402,
     "status": "ok",
     "timestamp": 1664248051505,
     "user": {
      "displayName": "Kshitiz Regmi",
      "userId": "14206467826921940229"
     },
     "user_tz": -345
    },
    "id": "L-z3PGiB2348",
    "outputId": "b0abe765-57cd-4450-d7d8-d12e03a2f0c5"
   },
   "outputs": [
    {
     "name": "stdout",
     "output_type": "stream",
     "text": [
      "The letter H is consonant\n",
      "The letter i is vowel\n",
      "The letter m is consonant\n",
      "The letter y is consonant\n",
      "The letter n is consonant\n",
      "The letter a is vowel\n",
      "The letter m is consonant\n",
      "The letter e is vowel\n",
      "The letter i is vowel\n",
      "The letter s is consonant\n",
      "The letter k is consonant\n",
      "The letter s is consonant\n",
      "The letter h is consonant\n",
      "The letter i is vowel\n",
      "The letter t is consonant\n",
      "The letter i is vowel\n",
      "The letter z is consonant\n"
     ]
    }
   ],
   "source": [
    "s = \"Hi my name is kshitiz\"\n",
    "start = 0\n",
    "end = len(s)\n",
    "step = 1\n",
    "for index in range(start, end, step):\n",
    "    letter = s[index]\n",
    "    if letter == 'a' or letter =='e' or letter == 'i' or letter == 'o' or letter =='u':\n",
    "        print(\"The letter {} is vowel\".format(letter))\n",
    "\n",
    "    elif letter == \" \":\n",
    "        continue\n",
    "        print(\"test\")\n",
    "    else:\n",
    "        print(\"The letter {} is consonant\".format(letter))"
   ]
  },
  {
   "cell_type": "code",
   "execution_count": 31,
   "metadata": {
    "colab": {
     "base_uri": "https://localhost:8080/"
    },
    "executionInfo": {
     "elapsed": 4,
     "status": "ok",
     "timestamp": 1664248068317,
     "user": {
      "displayName": "Kshitiz Regmi",
      "userId": "14206467826921940229"
     },
     "user_tz": -345
    },
    "id": "QMg2t4Fo5jNL",
    "outputId": "d76a3059-e6e8-4c54-9992-d6aa0a1f860d"
   },
   "outputs": [
    {
     "name": "stdout",
     "output_type": "stream",
     "text": [
      "The letter H is consonant\n",
      "The letter i is vowel\n"
     ]
    }
   ],
   "source": [
    "s = \"Hi my name is kshitiz\"\n",
    "start = 0\n",
    "end = len(s)\n",
    "step = 1\n",
    "for index in range(start, end, step):\n",
    "    letter = s[index]\n",
    "    if letter == 'a' or letter =='e' or letter == 'i' or letter == 'o' or letter =='u':\n",
    "        print(\"The letter {} is vowel\".format(letter))\n",
    "\n",
    "    elif letter == \" \":\n",
    "        break\n",
    "        print(\"test\")\n",
    "    else:\n",
    "        print(\"The letter {} is consonant\".format(letter))"
   ]
  },
  {
   "cell_type": "code",
   "execution_count": 32,
   "metadata": {
    "colab": {
     "base_uri": "https://localhost:8080/"
    },
    "executionInfo": {
     "elapsed": 397,
     "status": "ok",
     "timestamp": 1664248214564,
     "user": {
      "displayName": "Kshitiz Regmi",
      "userId": "14206467826921940229"
     },
     "user_tz": -345
    },
    "id": "uILgAyMG6jK2",
    "outputId": "ff5b37bd-fb5a-47c9-ec9a-ecec16f0ca69"
   },
   "outputs": [
    {
     "name": "stdout",
     "output_type": "stream",
     "text": [
      "The letter H is consonant\n",
      "The letter i is vowel\n",
      "The letter m is consonant\n",
      "The letter y is consonant\n",
      "The letter n is consonant\n",
      "The letter a is vowel\n",
      "The letter m is consonant\n",
      "The letter e is vowel\n",
      "The letter i is vowel\n",
      "The letter s is consonant\n",
      "The letter k is consonant\n",
      "The letter s is consonant\n",
      "The letter h is consonant\n",
      "The letter i is vowel\n",
      "The letter t is consonant\n",
      "The letter i is vowel\n",
      "The letter z is consonant\n"
     ]
    }
   ],
   "source": [
    "s = \"Hi my name is kshitiz\"\n",
    "start = 0\n",
    "end = len(s)\n",
    "step = 1\n",
    "for index in range(start, end, step):\n",
    "    letter = s[index]\n",
    "    if letter == 'a' or letter =='e' or letter == 'i' or letter == 'o' or letter =='u':\n",
    "        print(\"The letter {} is vowel\".format(letter))\n",
    "\n",
    "    elif letter == \" \":\n",
    "        continue\n",
    "        print(\"test\")\n",
    "    else:\n",
    "        print(\"The letter {} is consonant\".format(letter))"
   ]
  },
  {
   "cell_type": "code",
   "execution_count": 33,
   "metadata": {
    "executionInfo": {
     "elapsed": 3,
     "status": "ok",
     "timestamp": 1664248372223,
     "user": {
      "displayName": "Kshitiz Regmi",
      "userId": "14206467826921940229"
     },
     "user_tz": -345
    },
    "id": "jWkkLuNX6lGl"
   },
   "outputs": [],
   "source": [
    "s = \"Hi my name is kshitiz.\"\n"
   ]
  },
  {
   "cell_type": "markdown",
   "metadata": {
    "id": "bwCEMRiY7csR"
   },
   "source": [
    "# slicing string"
   ]
  },
  {
   "cell_type": "code",
   "execution_count": 34,
   "metadata": {
    "colab": {
     "base_uri": "https://localhost:8080/",
     "height": 35
    },
    "executionInfo": {
     "elapsed": 5,
     "status": "ok",
     "timestamp": 1664248372642,
     "user": {
      "displayName": "Kshitiz Regmi",
      "userId": "14206467826921940229"
     },
     "user_tz": -345
    },
    "id": "Bm1G-uFH7edP",
    "outputId": "0fa3a2d2-dae4-4a75-f79f-940f6eb82aaf"
   },
   "outputs": [
    {
     "data": {
      "text/plain": [
       "'H'"
      ]
     },
     "execution_count": 34,
     "metadata": {},
     "output_type": "execute_result"
    }
   ],
   "source": [
    "s[0] # indexing"
   ]
  },
  {
   "cell_type": "code",
   "execution_count": 35,
   "metadata": {
    "colab": {
     "base_uri": "https://localhost:8080/",
     "height": 35
    },
    "executionInfo": {
     "elapsed": 9,
     "status": "ok",
     "timestamp": 1664248373192,
     "user": {
      "displayName": "Kshitiz Regmi",
      "userId": "14206467826921940229"
     },
     "user_tz": -345
    },
    "id": "tkssIl577gpA",
    "outputId": "475a5ce6-cd40-422a-c02a-3373d8a755ef"
   },
   "outputs": [
    {
     "data": {
      "text/plain": [
       "'Hi'"
      ]
     },
     "execution_count": 35,
     "metadata": {},
     "output_type": "execute_result"
    }
   ],
   "source": [
    "s[0:2] # slicing"
   ]
  },
  {
   "cell_type": "code",
   "execution_count": 36,
   "metadata": {
    "colab": {
     "base_uri": "https://localhost:8080/",
     "height": 35
    },
    "executionInfo": {
     "elapsed": 7,
     "status": "ok",
     "timestamp": 1664248395181,
     "user": {
      "displayName": "Kshitiz Regmi",
      "userId": "14206467826921940229"
     },
     "user_tz": -345
    },
    "id": "Q7cBmece7qx6",
    "outputId": "8a0027ae-d7f7-4407-b8cb-062894ba34c8"
   },
   "outputs": [
    {
     "data": {
      "text/plain": [
       "' name is kshitiz.'"
      ]
     },
     "execution_count": 36,
     "metadata": {},
     "output_type": "execute_result"
    }
   ],
   "source": [
    "s[5:]"
   ]
  },
  {
   "cell_type": "code",
   "execution_count": 37,
   "metadata": {
    "colab": {
     "base_uri": "https://localhost:8080/",
     "height": 35
    },
    "executionInfo": {
     "elapsed": 5,
     "status": "ok",
     "timestamp": 1664248406183,
     "user": {
      "displayName": "Kshitiz Regmi",
      "userId": "14206467826921940229"
     },
     "user_tz": -345
    },
    "id": "D4oF_IfC7zB4",
    "outputId": "04598af5-ace4-420b-e645-ccd9d8b0299a"
   },
   "outputs": [
    {
     "data": {
      "text/plain": [
       "'Hi my'"
      ]
     },
     "execution_count": 37,
     "metadata": {},
     "output_type": "execute_result"
    }
   ],
   "source": [
    "s[:5]"
   ]
  },
  {
   "cell_type": "code",
   "execution_count": 38,
   "metadata": {
    "colab": {
     "base_uri": "https://localhost:8080/",
     "height": 35
    },
    "executionInfo": {
     "elapsed": 5,
     "status": "ok",
     "timestamp": 1664248474367,
     "user": {
      "displayName": "Kshitiz Regmi",
      "userId": "14206467826921940229"
     },
     "user_tz": -345
    },
    "id": "aMbHzW7671zQ",
    "outputId": "d7d1dd88-676f-4839-a619-754eb6cf3de9"
   },
   "outputs": [
    {
     "data": {
      "text/plain": [
       "'my n'"
      ]
     },
     "execution_count": 38,
     "metadata": {},
     "output_type": "execute_result"
    }
   ],
   "source": [
    "s[3:7] # slicing gives substring"
   ]
  },
  {
   "cell_type": "code",
   "execution_count": 39,
   "metadata": {
    "colab": {
     "base_uri": "https://localhost:8080/",
     "height": 35
    },
    "executionInfo": {
     "elapsed": 6,
     "status": "ok",
     "timestamp": 1664248510553,
     "user": {
      "displayName": "Kshitiz Regmi",
      "userId": "14206467826921940229"
     },
     "user_tz": -345
    },
    "id": "XFrpkuE_8GV6",
    "outputId": "c85da1dc-e95d-453d-d798-ba1a7d61bdf4"
   },
   "outputs": [
    {
     "data": {
      "text/plain": [
       "'hi gm'"
      ]
     },
     "execution_count": 39,
     "metadata": {},
     "output_type": "execute_result"
    }
   ],
   "source": [
    "\"hi\" + \" gm\""
   ]
  },
  {
   "cell_type": "code",
   "execution_count": 40,
   "metadata": {
    "colab": {
     "base_uri": "https://localhost:8080/",
     "height": 35
    },
    "executionInfo": {
     "elapsed": 10,
     "status": "ok",
     "timestamp": 1664248518899,
     "user": {
      "displayName": "Kshitiz Regmi",
      "userId": "14206467826921940229"
     },
     "user_tz": -345
    },
    "id": "OwUBRgGM8PLX",
    "outputId": "40d9922f-09cc-4fce-c966-ad60b4401c10"
   },
   "outputs": [
    {
     "data": {
      "text/plain": [
       "'hihihi'"
      ]
     },
     "execution_count": 40,
     "metadata": {},
     "output_type": "execute_result"
    }
   ],
   "source": [
    "\"hi\" * 3"
   ]
  },
  {
   "cell_type": "code",
   "execution_count": 41,
   "metadata": {
    "colab": {
     "base_uri": "https://localhost:8080/",
     "height": 166
    },
    "executionInfo": {
     "elapsed": 7,
     "status": "error",
     "timestamp": 1664248531611,
     "user": {
      "displayName": "Kshitiz Regmi",
      "userId": "14206467826921940229"
     },
     "user_tz": -345
    },
    "id": "-dr8sQcC8RRt",
    "outputId": "9de980f4-eca4-455d-e09c-4b009d612623"
   },
   "outputs": [
    {
     "ename": "TypeError",
     "evalue": "unsupported operand type(s) for -: 'str' and 'str'",
     "output_type": "error",
     "traceback": [
      "\u001b[0;31m---------------------------------------------------------------------------\u001b[0m",
      "\u001b[0;31mTypeError\u001b[0m                                 Traceback (most recent call last)",
      "Input \u001b[0;32mIn [41]\u001b[0m, in \u001b[0;36m<cell line: 1>\u001b[0;34m()\u001b[0m\n\u001b[0;32m----> 1\u001b[0m \u001b[38;5;124;43m\"\u001b[39;49m\u001b[38;5;124;43mhi\u001b[39;49m\u001b[38;5;124;43m\"\u001b[39;49m\u001b[43m \u001b[49m\u001b[38;5;241;43m-\u001b[39;49m\u001b[43m \u001b[49m\u001b[38;5;124;43m\"\u001b[39;49m\u001b[38;5;124;43mh\u001b[39;49m\u001b[38;5;124;43m\"\u001b[39;49m\n",
      "\u001b[0;31mTypeError\u001b[0m: unsupported operand type(s) for -: 'str' and 'str'"
     ]
    }
   ],
   "source": [
    "\"hi\" - \"h\""
   ]
  },
  {
   "cell_type": "code",
   "execution_count": 42,
   "metadata": {
    "executionInfo": {
     "elapsed": 2,
     "status": "ok",
     "timestamp": 1664248639467,
     "user": {
      "displayName": "Kshitiz Regmi",
      "userId": "14206467826921940229"
     },
     "user_tz": -345
    },
    "id": "8EM_QINA8UeR"
   },
   "outputs": [],
   "source": [
    "name = \"k$hitiz\""
   ]
  },
  {
   "cell_type": "code",
   "execution_count": 43,
   "metadata": {
    "colab": {
     "base_uri": "https://localhost:8080/",
     "height": 35
    },
    "executionInfo": {
     "elapsed": 6,
     "status": "ok",
     "timestamp": 1664248644022,
     "user": {
      "displayName": "Kshitiz Regmi",
      "userId": "14206467826921940229"
     },
     "user_tz": -345
    },
    "id": "LmLyUtN_8uzg",
    "outputId": "7b97256f-2b69-429e-ca1b-38c615a6b7d2"
   },
   "outputs": [
    {
     "data": {
      "text/plain": [
       "'$'"
      ]
     },
     "execution_count": 43,
     "metadata": {},
     "output_type": "execute_result"
    }
   ],
   "source": [
    "name[1]"
   ]
  },
  {
   "cell_type": "code",
   "execution_count": 44,
   "metadata": {
    "colab": {
     "base_uri": "https://localhost:8080/",
     "height": 166
    },
    "executionInfo": {
     "elapsed": 414,
     "status": "error",
     "timestamp": 1664248667932,
     "user": {
      "displayName": "Kshitiz Regmi",
      "userId": "14206467826921940229"
     },
     "user_tz": -345
    },
    "id": "1qCdyOFh8vsb",
    "outputId": "aa151126-5e51-40b1-9d4f-26f951e5a945"
   },
   "outputs": [
    {
     "ename": "TypeError",
     "evalue": "'str' object does not support item assignment",
     "output_type": "error",
     "traceback": [
      "\u001b[0;31m---------------------------------------------------------------------------\u001b[0m",
      "\u001b[0;31mTypeError\u001b[0m                                 Traceback (most recent call last)",
      "Input \u001b[0;32mIn [44]\u001b[0m, in \u001b[0;36m<cell line: 1>\u001b[0;34m()\u001b[0m\n\u001b[0;32m----> 1\u001b[0m name[\u001b[38;5;241m1\u001b[39m] \u001b[38;5;241m=\u001b[39m \u001b[38;5;124m\"\u001b[39m\u001b[38;5;124ms\u001b[39m\u001b[38;5;124m\"\u001b[39m\n",
      "\u001b[0;31mTypeError\u001b[0m: 'str' object does not support item assignment"
     ]
    }
   ],
   "source": [
    "name[1] = \"s\" # python string are immutable"
   ]
  },
  {
   "cell_type": "code",
   "execution_count": 45,
   "metadata": {
    "executionInfo": {
     "elapsed": 564,
     "status": "ok",
     "timestamp": 1664248880376,
     "user": {
      "displayName": "Kshitiz Regmi",
      "userId": "14206467826921940229"
     },
     "user_tz": -345
    },
    "id": "MxBvJusS81qB"
   },
   "outputs": [],
   "source": [
    "name = \"k$hitiz $$\"\n",
    "name = name.replace(\"$\", \"s\")"
   ]
  },
  {
   "cell_type": "code",
   "execution_count": 46,
   "metadata": {
    "colab": {
     "base_uri": "https://localhost:8080/",
     "height": 35
    },
    "executionInfo": {
     "elapsed": 9,
     "status": "ok",
     "timestamp": 1664248880377,
     "user": {
      "displayName": "Kshitiz Regmi",
      "userId": "14206467826921940229"
     },
     "user_tz": -345
    },
    "id": "A2u35r-S9jQu",
    "outputId": "9ad443ee-142d-4591-8c7c-76ebc11276af"
   },
   "outputs": [
    {
     "data": {
      "text/plain": [
       "'kshitiz ss'"
      ]
     },
     "execution_count": 46,
     "metadata": {},
     "output_type": "execute_result"
    }
   ],
   "source": [
    "name"
   ]
  },
  {
   "cell_type": "code",
   "execution_count": 47,
   "metadata": {
    "colab": {
     "base_uri": "https://localhost:8080/",
     "height": 35
    },
    "executionInfo": {
     "elapsed": 7,
     "status": "ok",
     "timestamp": 1664249373246,
     "user": {
      "displayName": "Kshitiz Regmi",
      "userId": "14206467826921940229"
     },
     "user_tz": -345
    },
    "id": "E0UUEKso9Sx4",
    "outputId": "3d1fcb8c-320d-460d-a0b5-48b9dcb8ebbc"
   },
   "outputs": [
    {
     "data": {
      "text/plain": [
       "'Great Dashain'"
      ]
     },
     "execution_count": 47,
     "metadata": {},
     "output_type": "execute_result"
    }
   ],
   "source": [
    "\"Happy Dashain\".replace(\"Happy\", \"Great\")"
   ]
  },
  {
   "cell_type": "code",
   "execution_count": 48,
   "metadata": {
    "colab": {
     "base_uri": "https://localhost:8080/",
     "height": 35
    },
    "executionInfo": {
     "elapsed": 5,
     "status": "ok",
     "timestamp": 1664248923329,
     "user": {
      "displayName": "Kshitiz Regmi",
      "userId": "14206467826921940229"
     },
     "user_tz": -345
    },
    "id": "--bnNnJM9eIV",
    "outputId": "145c57a0-eebc-4d79-f7e2-33f6a12e1a1f"
   },
   "outputs": [
    {
     "data": {
      "text/plain": [
       "'HAPPY DASHAIN'"
      ]
     },
     "execution_count": 48,
     "metadata": {},
     "output_type": "execute_result"
    }
   ],
   "source": [
    "\"Happy Dashain\".upper() # text normalization"
   ]
  },
  {
   "cell_type": "code",
   "execution_count": 49,
   "metadata": {
    "colab": {
     "base_uri": "https://localhost:8080/",
     "height": 35
    },
    "executionInfo": {
     "elapsed": 5,
     "status": "ok",
     "timestamp": 1664248932333,
     "user": {
      "displayName": "Kshitiz Regmi",
      "userId": "14206467826921940229"
     },
     "user_tz": -345
    },
    "id": "RfVmqCDu90Ff",
    "outputId": "58b954e7-edfa-4247-deea-8a3c7a7ec3ad"
   },
   "outputs": [
    {
     "data": {
      "text/plain": [
       "'happy dashain'"
      ]
     },
     "execution_count": 49,
     "metadata": {},
     "output_type": "execute_result"
    }
   ],
   "source": [
    "\"Happy Dashain\".lower()"
   ]
  },
  {
   "cell_type": "code",
   "execution_count": 50,
   "metadata": {},
   "outputs": [
    {
     "data": {
      "text/plain": [
       "'Happy Dashain'"
      ]
     },
     "execution_count": 50,
     "metadata": {},
     "output_type": "execute_result"
    }
   ],
   "source": [
    "\"   Happy Dashain\".lstrip()"
   ]
  },
  {
   "cell_type": "code",
   "execution_count": 51,
   "metadata": {},
   "outputs": [
    {
     "data": {
      "text/plain": [
       "'Happy Dashain'"
      ]
     },
     "execution_count": 51,
     "metadata": {},
     "output_type": "execute_result"
    }
   ],
   "source": [
    "\"Happy Dashain    \".rstrip()"
   ]
  },
  {
   "cell_type": "code",
   "execution_count": 52,
   "metadata": {},
   "outputs": [
    {
     "data": {
      "text/plain": [
       "'Happy Dashain'"
      ]
     },
     "execution_count": 52,
     "metadata": {},
     "output_type": "execute_result"
    }
   ],
   "source": [
    "\"  Happy Dashain    \".strip()"
   ]
  },
  {
   "cell_type": "code",
   "execution_count": 53,
   "metadata": {
    "executionInfo": {
     "elapsed": 476,
     "status": "ok",
     "timestamp": 1664249077584,
     "user": {
      "displayName": "Kshitiz Regmi",
      "userId": "14206467826921940229"
     },
     "user_tz": -345
    },
    "id": "qA4d5nmB92M_"
   },
   "outputs": [],
   "source": [
    "txt = \"This, will split all words.\""
   ]
  },
  {
   "cell_type": "code",
   "execution_count": 54,
   "metadata": {
    "colab": {
     "base_uri": "https://localhost:8080/"
    },
    "executionInfo": {
     "elapsed": 5,
     "status": "ok",
     "timestamp": 1664249080557,
     "user": {
      "displayName": "Kshitiz Regmi",
      "userId": "14206467826921940229"
     },
     "user_tz": -345
    },
    "id": "ni6jEbEG-K4c",
    "outputId": "a799b205-5290-43b4-d27f-af295f39f2c7"
   },
   "outputs": [
    {
     "data": {
      "text/plain": [
       "['This', ' will split all words.']"
      ]
     },
     "execution_count": 54,
     "metadata": {},
     "output_type": "execute_result"
    }
   ],
   "source": [
    "txt.split(\",\")"
   ]
  },
  {
   "cell_type": "code",
   "execution_count": 55,
   "metadata": {
    "colab": {
     "base_uri": "https://localhost:8080/"
    },
    "executionInfo": {
     "elapsed": 4,
     "status": "ok",
     "timestamp": 1664249051331,
     "user": {
      "displayName": "Kshitiz Regmi",
      "userId": "14206467826921940229"
     },
     "user_tz": -345
    },
    "id": "sbTRF9iL-Nzl",
    "outputId": "a01423d5-a5f2-4037-b2a7-93f61e1da434"
   },
   "outputs": [
    {
     "data": {
      "text/plain": [
       "list"
      ]
     },
     "execution_count": 55,
     "metadata": {},
     "output_type": "execute_result"
    }
   ],
   "source": [
    "type(txt.split())"
   ]
  },
  {
   "cell_type": "code",
   "execution_count": 56,
   "metadata": {
    "executionInfo": {
     "elapsed": 3,
     "status": "ok",
     "timestamp": 1664249590841,
     "user": {
      "displayName": "Kshitiz Regmi",
      "userId": "14206467826921940229"
     },
     "user_tz": -345
    },
    "id": "8a6RyeD9-TVj"
   },
   "outputs": [],
   "source": [
    "txt = \"This will split all words.\"\n",
    "words = txt.split()"
   ]
  },
  {
   "cell_type": "code",
   "execution_count": 57,
   "metadata": {
    "colab": {
     "base_uri": "https://localhost:8080/"
    },
    "executionInfo": {
     "elapsed": 3,
     "status": "ok",
     "timestamp": 1664249594274,
     "user": {
      "displayName": "Kshitiz Regmi",
      "userId": "14206467826921940229"
     },
     "user_tz": -345
    },
    "id": "I75QP8uFAVo6",
    "outputId": "a102afb2-c91c-418c-c2dc-ba507ed09521"
   },
   "outputs": [
    {
     "data": {
      "text/plain": [
       "['This', 'will', 'split', 'all', 'words.']"
      ]
     },
     "execution_count": 57,
     "metadata": {},
     "output_type": "execute_result"
    }
   ],
   "source": [
    "words # python list type"
   ]
  },
  {
   "cell_type": "code",
   "execution_count": 58,
   "metadata": {},
   "outputs": [
    {
     "data": {
      "text/plain": [
       "5"
      ]
     },
     "execution_count": 58,
     "metadata": {},
     "output_type": "execute_result"
    }
   ],
   "source": [
    "len(words)"
   ]
  },
  {
   "cell_type": "code",
   "execution_count": null,
   "metadata": {
    "id": "hWJNYz5VAwud"
   },
   "outputs": [],
   "source": []
  },
  {
   "cell_type": "code",
   "execution_count": null,
   "metadata": {},
   "outputs": [],
   "source": []
  }
 ],
 "metadata": {
  "colab": {
   "authorship_tag": "ABX9TyNegtmwdl8FiAWVc/UUfOPU",
   "provenance": []
  },
  "kernelspec": {
   "display_name": "Python 3 (ipykernel)",
   "language": "python",
   "name": "python3"
  },
  "language_info": {
   "codemirror_mode": {
    "name": "ipython",
    "version": 3
   },
   "file_extension": ".py",
   "mimetype": "text/x-python",
   "name": "python",
   "nbconvert_exporter": "python",
   "pygments_lexer": "ipython3",
   "version": "3.8.10"
  }
 },
 "nbformat": 4,
 "nbformat_minor": 1
}
